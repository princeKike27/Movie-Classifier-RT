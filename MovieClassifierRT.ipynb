{
  "nbformat": 4,
  "nbformat_minor": 0,
  "metadata": {
    "colab": {
      "name": "MovieClassifierRT.ipynb",
      "provenance": [],
      "collapsed_sections": [],
      "authorship_tag": "ABX9TyP4cfc2pJwR22v/DA0uEXAc",
      "include_colab_link": true
    },
    "kernelspec": {
      "name": "python3",
      "display_name": "Python 3"
    },
    "language_info": {
      "name": "python"
    }
  },
  "cells": [
    {
      "cell_type": "markdown",
      "metadata": {
        "id": "view-in-github",
        "colab_type": "text"
      },
      "source": [
        "<a href=\"https://colab.research.google.com/github/princeKike27/Movie-Classifier-RT/blob/main/MovieClassifierRT.ipynb\" target=\"_parent\"><img src=\"https://colab.research.google.com/assets/colab-badge.svg\" alt=\"Open In Colab\"/></a>"
      ]
    },
    {
      "cell_type": "markdown",
      "metadata": {
        "id": "jf0C5Zpqo8zL"
      },
      "source": [
        "# Movie Classifier\n",
        "\n",
        "For this project ....\n"
      ]
    },
    {
      "cell_type": "code",
      "metadata": {
        "id": "22GufpfGo2JO"
      },
      "source": [
        "# import modules\n",
        "import pandas as pd\n",
        "import numpy as np\n",
        "import matplotlib.pyplot as plt\n",
        "import seaborn as sns "
      ],
      "execution_count": 1,
      "outputs": []
    },
    {
      "cell_type": "code",
      "metadata": {
        "colab": {
          "base_uri": "https://localhost:8080/",
          "height": 400
        },
        "id": "0zSdglFhpsgo",
        "outputId": "0f8aade4-2464-4d07-c7d3-da28df40a77a"
      },
      "source": [
        "# load dataset\n",
        "df = pd.read_csv('https://raw.githubusercontent.com/princeKike27/Movie-Classifier-RT/main/rotten_tomatoes_movies.csv')\n",
        "\n",
        "# set max column width to be able to display better the df\n",
        "pd.options.display.max_colwidth = 25\n",
        "\n",
        "df.head()"
      ],
      "execution_count": 2,
      "outputs": [
        {
          "output_type": "execute_result",
          "data": {
            "text/html": [
              "<div>\n",
              "<style scoped>\n",
              "    .dataframe tbody tr th:only-of-type {\n",
              "        vertical-align: middle;\n",
              "    }\n",
              "\n",
              "    .dataframe tbody tr th {\n",
              "        vertical-align: top;\n",
              "    }\n",
              "\n",
              "    .dataframe thead th {\n",
              "        text-align: right;\n",
              "    }\n",
              "</style>\n",
              "<table border=\"1\" class=\"dataframe\">\n",
              "  <thead>\n",
              "    <tr style=\"text-align: right;\">\n",
              "      <th></th>\n",
              "      <th>rotten_tomatoes_link</th>\n",
              "      <th>movie_title</th>\n",
              "      <th>movie_info</th>\n",
              "      <th>critics_consensus</th>\n",
              "      <th>content_rating</th>\n",
              "      <th>genres</th>\n",
              "      <th>directors</th>\n",
              "      <th>authors</th>\n",
              "      <th>actors</th>\n",
              "      <th>original_release_date</th>\n",
              "      <th>streaming_release_date</th>\n",
              "      <th>runtime</th>\n",
              "      <th>production_company</th>\n",
              "      <th>tomatometer_status</th>\n",
              "      <th>tomatometer_rating</th>\n",
              "      <th>tomatometer_count</th>\n",
              "      <th>audience_status</th>\n",
              "      <th>audience_rating</th>\n",
              "      <th>audience_count</th>\n",
              "      <th>tomatometer_top_critics_count</th>\n",
              "      <th>tomatometer_fresh_critics_count</th>\n",
              "      <th>tomatometer_rotten_critics_count</th>\n",
              "    </tr>\n",
              "  </thead>\n",
              "  <tbody>\n",
              "    <tr>\n",
              "      <th>0</th>\n",
              "      <td>m/0814255</td>\n",
              "      <td>Percy Jackson &amp; the O...</td>\n",
              "      <td>Always trouble-prone,...</td>\n",
              "      <td>Though it may seem li...</td>\n",
              "      <td>PG</td>\n",
              "      <td>Action &amp; Adventure, C...</td>\n",
              "      <td>Chris Columbus</td>\n",
              "      <td>Craig Titley, Chris C...</td>\n",
              "      <td>Logan Lerman, Brandon...</td>\n",
              "      <td>2010-02-12</td>\n",
              "      <td>2015-11-25</td>\n",
              "      <td>119.0</td>\n",
              "      <td>20th Century Fox</td>\n",
              "      <td>Rotten</td>\n",
              "      <td>49.0</td>\n",
              "      <td>149.0</td>\n",
              "      <td>Spilled</td>\n",
              "      <td>53.0</td>\n",
              "      <td>254421.0</td>\n",
              "      <td>43</td>\n",
              "      <td>73</td>\n",
              "      <td>76</td>\n",
              "    </tr>\n",
              "    <tr>\n",
              "      <th>1</th>\n",
              "      <td>m/0878835</td>\n",
              "      <td>Please Give</td>\n",
              "      <td>Kate (Catherine Keene...</td>\n",
              "      <td>Nicole Holofcener's n...</td>\n",
              "      <td>R</td>\n",
              "      <td>Comedy</td>\n",
              "      <td>Nicole Holofcener</td>\n",
              "      <td>Nicole Holofcener</td>\n",
              "      <td>Catherine Keener, Ama...</td>\n",
              "      <td>2010-04-30</td>\n",
              "      <td>2012-09-04</td>\n",
              "      <td>90.0</td>\n",
              "      <td>Sony Pictures Classics</td>\n",
              "      <td>Certified-Fresh</td>\n",
              "      <td>87.0</td>\n",
              "      <td>142.0</td>\n",
              "      <td>Upright</td>\n",
              "      <td>64.0</td>\n",
              "      <td>11574.0</td>\n",
              "      <td>44</td>\n",
              "      <td>123</td>\n",
              "      <td>19</td>\n",
              "    </tr>\n",
              "    <tr>\n",
              "      <th>2</th>\n",
              "      <td>m/10</td>\n",
              "      <td>10</td>\n",
              "      <td>A successful, middle-...</td>\n",
              "      <td>Blake Edwards' bawdy ...</td>\n",
              "      <td>R</td>\n",
              "      <td>Comedy, Romance</td>\n",
              "      <td>Blake Edwards</td>\n",
              "      <td>Blake Edwards</td>\n",
              "      <td>Dudley Moore, Bo Dere...</td>\n",
              "      <td>1979-10-05</td>\n",
              "      <td>2014-07-24</td>\n",
              "      <td>122.0</td>\n",
              "      <td>Waner Bros.</td>\n",
              "      <td>Fresh</td>\n",
              "      <td>67.0</td>\n",
              "      <td>24.0</td>\n",
              "      <td>Spilled</td>\n",
              "      <td>53.0</td>\n",
              "      <td>14684.0</td>\n",
              "      <td>2</td>\n",
              "      <td>16</td>\n",
              "      <td>8</td>\n",
              "    </tr>\n",
              "    <tr>\n",
              "      <th>3</th>\n",
              "      <td>m/1000013-12_angry_men</td>\n",
              "      <td>12 Angry Men (Twelve ...</td>\n",
              "      <td>Following the closing...</td>\n",
              "      <td>Sidney Lumet's featur...</td>\n",
              "      <td>NR</td>\n",
              "      <td>Classics, Drama</td>\n",
              "      <td>Sidney Lumet</td>\n",
              "      <td>Reginald Rose</td>\n",
              "      <td>Martin Balsam, John F...</td>\n",
              "      <td>1957-04-13</td>\n",
              "      <td>2017-01-13</td>\n",
              "      <td>95.0</td>\n",
              "      <td>Criterion Collection</td>\n",
              "      <td>Certified-Fresh</td>\n",
              "      <td>100.0</td>\n",
              "      <td>54.0</td>\n",
              "      <td>Upright</td>\n",
              "      <td>97.0</td>\n",
              "      <td>105386.0</td>\n",
              "      <td>6</td>\n",
              "      <td>54</td>\n",
              "      <td>0</td>\n",
              "    </tr>\n",
              "    <tr>\n",
              "      <th>4</th>\n",
              "      <td>m/1000079-20000_leagu...</td>\n",
              "      <td>20,000 Leagues Under ...</td>\n",
              "      <td>In 1866, Professor Pi...</td>\n",
              "      <td>One of Disney's fines...</td>\n",
              "      <td>G</td>\n",
              "      <td>Action &amp; Adventure, D...</td>\n",
              "      <td>Richard Fleischer</td>\n",
              "      <td>Earl Felton</td>\n",
              "      <td>James Mason, Kirk Dou...</td>\n",
              "      <td>1954-01-01</td>\n",
              "      <td>2016-06-10</td>\n",
              "      <td>127.0</td>\n",
              "      <td>Disney</td>\n",
              "      <td>Fresh</td>\n",
              "      <td>89.0</td>\n",
              "      <td>27.0</td>\n",
              "      <td>Upright</td>\n",
              "      <td>74.0</td>\n",
              "      <td>68918.0</td>\n",
              "      <td>5</td>\n",
              "      <td>24</td>\n",
              "      <td>3</td>\n",
              "    </tr>\n",
              "  </tbody>\n",
              "</table>\n",
              "</div>"
            ],
            "text/plain": [
              "       rotten_tomatoes_link  ... tomatometer_rotten_critics_count\n",
              "0                 m/0814255  ...                        76       \n",
              "1                 m/0878835  ...                        19       \n",
              "2                      m/10  ...                         8       \n",
              "3    m/1000013-12_angry_men  ...                         0       \n",
              "4  m/1000079-20000_leagu...  ...                         3       \n",
              "\n",
              "[5 rows x 22 columns]"
            ]
          },
          "metadata": {},
          "execution_count": 2
        }
      ]
    },
    {
      "cell_type": "code",
      "metadata": {
        "colab": {
          "base_uri": "https://localhost:8080/"
        },
        "id": "Vnoj-ogrrUoe",
        "outputId": "0f0b90d7-8f12-40dd-f344-7bfad6f4c595"
      },
      "source": [
        "# shape of df\n",
        "df.shape"
      ],
      "execution_count": 3,
      "outputs": [
        {
          "output_type": "execute_result",
          "data": {
            "text/plain": [
              "(17712, 22)"
            ]
          },
          "metadata": {},
          "execution_count": 3
        }
      ]
    },
    {
      "cell_type": "code",
      "metadata": {
        "colab": {
          "base_uri": "https://localhost:8080/"
        },
        "id": "FnMd2IByrYZk",
        "outputId": "dd8f6716-b87d-4a01-8b05-026323b5599b"
      },
      "source": [
        "# check column types\n",
        "df.dtypes"
      ],
      "execution_count": 4,
      "outputs": [
        {
          "output_type": "execute_result",
          "data": {
            "text/plain": [
              "rotten_tomatoes_link                 object\n",
              "movie_title                          object\n",
              "movie_info                           object\n",
              "critics_consensus                    object\n",
              "content_rating                       object\n",
              "genres                               object\n",
              "directors                            object\n",
              "authors                              object\n",
              "actors                               object\n",
              "original_release_date                object\n",
              "streaming_release_date               object\n",
              "runtime                             float64\n",
              "production_company                   object\n",
              "tomatometer_status                   object\n",
              "tomatometer_rating                  float64\n",
              "tomatometer_count                   float64\n",
              "audience_status                      object\n",
              "audience_rating                     float64\n",
              "audience_count                      float64\n",
              "tomatometer_top_critics_count         int64\n",
              "tomatometer_fresh_critics_count       int64\n",
              "tomatometer_rotten_critics_count      int64\n",
              "dtype: object"
            ]
          },
          "metadata": {},
          "execution_count": 4
        }
      ]
    },
    {
      "cell_type": "code",
      "metadata": {
        "colab": {
          "base_uri": "https://localhost:8080/",
          "height": 583
        },
        "id": "Gs8P_sHZriMY",
        "outputId": "519ce700-b55c-41a6-c146-7c2a077e0738"
      },
      "source": [
        "# check for missing values\n",
        "import missingno as msg\n",
        "\n",
        "msg.matrix(df, figsize=(20, 6))"
      ],
      "execution_count": 5,
      "outputs": [
        {
          "output_type": "execute_result",
          "data": {
            "text/plain": [
              "<matplotlib.axes._subplots.AxesSubplot at 0x7fd628c3ced0>"
            ]
          },
          "metadata": {},
          "execution_count": 5
        },
        {
          "output_type": "display_data",
          "data": {
            "image/png": "[encoded data removed]",
            "text/plain": [
              "<Figure size 1440x432 with 2 Axes>"
            ]
          },
          "metadata": {
            "needs_background": "light"
          }
        }
      ]
    },
    {
      "cell_type": "code",
      "metadata": {
        "colab": {
          "base_uri": "https://localhost:8080/"
        },
        "id": "L15r3gc9t5wv",
        "outputId": "d3e8ee6f-3f42-4269-d615-b1122a451ec2"
      },
      "source": [
        "# number missing values per column\n",
        "cols = list(df.columns)\n",
        "\n",
        "for el in cols:\n",
        "  print(f'{el}: {df[el].isna().sum()}')"
      ],
      "execution_count": 6,
      "outputs": [
        {
          "output_type": "stream",
          "name": "stdout",
          "text": [
            "rotten_tomatoes_link: 0\n",
            "movie_title: 0\n",
            "movie_info: 321\n",
            "critics_consensus: 8578\n",
            "content_rating: 0\n",
            "genres: 19\n",
            "directors: 194\n",
            "authors: 1542\n",
            "actors: 352\n",
            "original_release_date: 1166\n",
            "streaming_release_date: 384\n",
            "runtime: 314\n",
            "production_company: 499\n",
            "tomatometer_status: 44\n",
            "tomatometer_rating: 44\n",
            "tomatometer_count: 44\n",
            "audience_status: 448\n",
            "audience_rating: 296\n",
            "audience_count: 297\n",
            "tomatometer_top_critics_count: 0\n",
            "tomatometer_fresh_critics_count: 0\n",
            "tomatometer_rotten_critics_count: 0\n"
          ]
        }
      ]
    },
    {
      "cell_type": "code",
      "metadata": {
        "colab": {
          "base_uri": "https://localhost:8080/",
          "height": 320
        },
        "id": "5P_D-iqTviBm",
        "outputId": "1a59d749-61fd-44ec-d65d-66d8a72e827b"
      },
      "source": [
        "# descriptive statistics\n",
        "df.describe()"
      ],
      "execution_count": 7,
      "outputs": [
        {
          "output_type": "execute_result",
          "data": {
            "text/html": [
              "<div>\n",
              "<style scoped>\n",
              "    .dataframe tbody tr th:only-of-type {\n",
              "        vertical-align: middle;\n",
              "    }\n",
              "\n",
              "    .dataframe tbody tr th {\n",
              "        vertical-align: top;\n",
              "    }\n",
              "\n",
              "    .dataframe thead th {\n",
              "        text-align: right;\n",
              "    }\n",
              "</style>\n",
              "<table border=\"1\" class=\"dataframe\">\n",
              "  <thead>\n",
              "    <tr style=\"text-align: right;\">\n",
              "      <th></th>\n",
              "      <th>runtime</th>\n",
              "      <th>tomatometer_rating</th>\n",
              "      <th>tomatometer_count</th>\n",
              "      <th>audience_rating</th>\n",
              "      <th>audience_count</th>\n",
              "      <th>tomatometer_top_critics_count</th>\n",
              "      <th>tomatometer_fresh_critics_count</th>\n",
              "      <th>tomatometer_rotten_critics_count</th>\n",
              "    </tr>\n",
              "  </thead>\n",
              "  <tbody>\n",
              "    <tr>\n",
              "      <th>count</th>\n",
              "      <td>17398.000000</td>\n",
              "      <td>17668.000000</td>\n",
              "      <td>17668.000000</td>\n",
              "      <td>17416.000000</td>\n",
              "      <td>1.741500e+04</td>\n",
              "      <td>17712.000000</td>\n",
              "      <td>17712.000000</td>\n",
              "      <td>17712.000000</td>\n",
              "    </tr>\n",
              "    <tr>\n",
              "      <th>mean</th>\n",
              "      <td>102.214048</td>\n",
              "      <td>60.884763</td>\n",
              "      <td>57.139801</td>\n",
              "      <td>60.554260</td>\n",
              "      <td>1.439401e+05</td>\n",
              "      <td>14.586326</td>\n",
              "      <td>36.374831</td>\n",
              "      <td>20.703139</td>\n",
              "    </tr>\n",
              "    <tr>\n",
              "      <th>std</th>\n",
              "      <td>18.702511</td>\n",
              "      <td>28.443348</td>\n",
              "      <td>68.370047</td>\n",
              "      <td>20.543369</td>\n",
              "      <td>1.763577e+06</td>\n",
              "      <td>15.146349</td>\n",
              "      <td>52.601038</td>\n",
              "      <td>30.248435</td>\n",
              "    </tr>\n",
              "    <tr>\n",
              "      <th>min</th>\n",
              "      <td>5.000000</td>\n",
              "      <td>0.000000</td>\n",
              "      <td>5.000000</td>\n",
              "      <td>0.000000</td>\n",
              "      <td>5.000000e+00</td>\n",
              "      <td>0.000000</td>\n",
              "      <td>0.000000</td>\n",
              "      <td>0.000000</td>\n",
              "    </tr>\n",
              "    <tr>\n",
              "      <th>25%</th>\n",
              "      <td>90.000000</td>\n",
              "      <td>38.000000</td>\n",
              "      <td>12.000000</td>\n",
              "      <td>45.000000</td>\n",
              "      <td>7.075000e+02</td>\n",
              "      <td>3.000000</td>\n",
              "      <td>6.000000</td>\n",
              "      <td>3.000000</td>\n",
              "    </tr>\n",
              "    <tr>\n",
              "      <th>50%</th>\n",
              "      <td>99.000000</td>\n",
              "      <td>67.000000</td>\n",
              "      <td>28.000000</td>\n",
              "      <td>63.000000</td>\n",
              "      <td>4.277000e+03</td>\n",
              "      <td>8.000000</td>\n",
              "      <td>16.000000</td>\n",
              "      <td>8.000000</td>\n",
              "    </tr>\n",
              "    <tr>\n",
              "      <th>75%</th>\n",
              "      <td>111.000000</td>\n",
              "      <td>86.000000</td>\n",
              "      <td>75.000000</td>\n",
              "      <td>78.000000</td>\n",
              "      <td>2.498800e+04</td>\n",
              "      <td>23.000000</td>\n",
              "      <td>44.000000</td>\n",
              "      <td>24.000000</td>\n",
              "    </tr>\n",
              "    <tr>\n",
              "      <th>max</th>\n",
              "      <td>266.000000</td>\n",
              "      <td>100.000000</td>\n",
              "      <td>574.000000</td>\n",
              "      <td>100.000000</td>\n",
              "      <td>3.579764e+07</td>\n",
              "      <td>69.000000</td>\n",
              "      <td>497.000000</td>\n",
              "      <td>303.000000</td>\n",
              "    </tr>\n",
              "  </tbody>\n",
              "</table>\n",
              "</div>"
            ],
            "text/plain": [
              "            runtime  ...  tomatometer_rotten_critics_count\n",
              "count  17398.000000  ...              17712.000000        \n",
              "mean     102.214048  ...                 20.703139        \n",
              "std       18.702511  ...                 30.248435        \n",
              "min        5.000000  ...                  0.000000        \n",
              "25%       90.000000  ...                  3.000000        \n",
              "50%       99.000000  ...                  8.000000        \n",
              "75%      111.000000  ...                 24.000000        \n",
              "max      266.000000  ...                303.000000        \n",
              "\n",
              "[8 rows x 8 columns]"
            ]
          },
          "metadata": {},
          "execution_count": 7
        }
      ]
    },
    {
      "cell_type": "markdown",
      "metadata": {
        "id": "ZNtc3bjGyGTw"
      },
      "source": [
        "# Features & Label Selection"
      ]
    },
    {
      "cell_type": "markdown",
      "metadata": {
        "id": "C05dg2h3yLls"
      },
      "source": [
        "### Features & Label Tidying\n",
        " - movie_title / genres / original_release_date / runtime / tomatometer_rating"
      ]
    },
    {
      "cell_type": "code",
      "metadata": {
        "colab": {
          "base_uri": "https://localhost:8080/",
          "height": 206
        },
        "id": "w0IU9gP0y_0w",
        "outputId": "6406e1c1-0c90-4197-cc5b-5a714371f2e8"
      },
      "source": [
        "# features\n",
        "f_l = df[['movie_title', 'genres', 'original_release_date', 'runtime', 'tomatometer_rating']]\n",
        "f_l.head()"
      ],
      "execution_count": 8,
      "outputs": [
        {
          "output_type": "execute_result",
          "data": {
            "text/html": [
              "<div>\n",
              "<style scoped>\n",
              "    .dataframe tbody tr th:only-of-type {\n",
              "        vertical-align: middle;\n",
              "    }\n",
              "\n",
              "    .dataframe tbody tr th {\n",
              "        vertical-align: top;\n",
              "    }\n",
              "\n",
              "    .dataframe thead th {\n",
              "        text-align: right;\n",
              "    }\n",
              "</style>\n",
              "<table border=\"1\" class=\"dataframe\">\n",
              "  <thead>\n",
              "    <tr style=\"text-align: right;\">\n",
              "      <th></th>\n",
              "      <th>movie_title</th>\n",
              "      <th>genres</th>\n",
              "      <th>original_release_date</th>\n",
              "      <th>runtime</th>\n",
              "      <th>tomatometer_rating</th>\n",
              "    </tr>\n",
              "  </thead>\n",
              "  <tbody>\n",
              "    <tr>\n",
              "      <th>0</th>\n",
              "      <td>Percy Jackson &amp; the O...</td>\n",
              "      <td>Action &amp; Adventure, C...</td>\n",
              "      <td>2010-02-12</td>\n",
              "      <td>119.0</td>\n",
              "      <td>49.0</td>\n",
              "    </tr>\n",
              "    <tr>\n",
              "      <th>1</th>\n",
              "      <td>Please Give</td>\n",
              "      <td>Comedy</td>\n",
              "      <td>2010-04-30</td>\n",
              "      <td>90.0</td>\n",
              "      <td>87.0</td>\n",
              "    </tr>\n",
              "    <tr>\n",
              "      <th>2</th>\n",
              "      <td>10</td>\n",
              "      <td>Comedy, Romance</td>\n",
              "      <td>1979-10-05</td>\n",
              "      <td>122.0</td>\n",
              "      <td>67.0</td>\n",
              "    </tr>\n",
              "    <tr>\n",
              "      <th>3</th>\n",
              "      <td>12 Angry Men (Twelve ...</td>\n",
              "      <td>Classics, Drama</td>\n",
              "      <td>1957-04-13</td>\n",
              "      <td>95.0</td>\n",
              "      <td>100.0</td>\n",
              "    </tr>\n",
              "    <tr>\n",
              "      <th>4</th>\n",
              "      <td>20,000 Leagues Under ...</td>\n",
              "      <td>Action &amp; Adventure, D...</td>\n",
              "      <td>1954-01-01</td>\n",
              "      <td>127.0</td>\n",
              "      <td>89.0</td>\n",
              "    </tr>\n",
              "  </tbody>\n",
              "</table>\n",
              "</div>"
            ],
            "text/plain": [
              "                movie_title  ... tomatometer_rating\n",
              "0  Percy Jackson & the O...  ...               49.0\n",
              "1               Please Give  ...               87.0\n",
              "2                        10  ...               67.0\n",
              "3  12 Angry Men (Twelve ...  ...              100.0\n",
              "4  20,000 Leagues Under ...  ...               89.0\n",
              "\n",
              "[5 rows x 5 columns]"
            ]
          },
          "metadata": {},
          "execution_count": 8
        }
      ]
    },
    {
      "cell_type": "code",
      "metadata": {
        "colab": {
          "base_uri": "https://localhost:8080/"
        },
        "id": "wiphwP231fqQ",
        "outputId": "23601c7e-e52d-4aae-c6d5-e1da1cc0e834"
      },
      "source": [
        "f_l.shape"
      ],
      "execution_count": 9,
      "outputs": [
        {
          "output_type": "execute_result",
          "data": {
            "text/plain": [
              "(17712, 5)"
            ]
          },
          "metadata": {},
          "execution_count": 9
        }
      ]
    },
    {
      "cell_type": "markdown",
      "metadata": {
        "id": "d6G7sacHzt6l"
      },
      "source": [
        "### Genres"
      ]
    },
    {
      "cell_type": "code",
      "metadata": {
        "colab": {
          "base_uri": "https://localhost:8080/",
          "height": 316
        },
        "id": "ddXqTLbuw2z5",
        "outputId": "a320a3f3-c688-45cd-bd7c-5496170d248e"
      },
      "source": [
        "# separate the main genre from the genres column\n",
        "f_l['main_genre'] = f_l.genres.str.split(',').str[0]\n",
        "f_l.head()"
      ],
      "execution_count": 10,
      "outputs": [
        {
          "output_type": "stream",
          "name": "stderr",
          "text": [
            "/usr/local/lib/python3.7/dist-packages/ipykernel_launcher.py:2: SettingWithCopyWarning: \n",
            "A value is trying to be set on a copy of a slice from a DataFrame.\n",
            "Try using .loc[row_indexer,col_indexer] = value instead\n",
            "\n",
            "See the caveats in the documentation: https://pandas.pydata.org/pandas-docs/stable/user_guide/indexing.html#returning-a-view-versus-a-copy\n",
            "  \n"
          ]
        },
        {
          "output_type": "execute_result",
          "data": {
            "text/html": [
              "<div>\n",
              "<style scoped>\n",
              "    .dataframe tbody tr th:only-of-type {\n",
              "        vertical-align: middle;\n",
              "    }\n",
              "\n",
              "    .dataframe tbody tr th {\n",
              "        vertical-align: top;\n",
              "    }\n",
              "\n",
              "    .dataframe thead th {\n",
              "        text-align: right;\n",
              "    }\n",
              "</style>\n",
              "<table border=\"1\" class=\"dataframe\">\n",
              "  <thead>\n",
              "    <tr style=\"text-align: right;\">\n",
              "      <th></th>\n",
              "      <th>movie_title</th>\n",
              "      <th>genres</th>\n",
              "      <th>original_release_date</th>\n",
              "      <th>runtime</th>\n",
              "      <th>tomatometer_rating</th>\n",
              "      <th>main_genre</th>\n",
              "    </tr>\n",
              "  </thead>\n",
              "  <tbody>\n",
              "    <tr>\n",
              "      <th>0</th>\n",
              "      <td>Percy Jackson &amp; the O...</td>\n",
              "      <td>Action &amp; Adventure, C...</td>\n",
              "      <td>2010-02-12</td>\n",
              "      <td>119.0</td>\n",
              "      <td>49.0</td>\n",
              "      <td>Action &amp; Adventure</td>\n",
              "    </tr>\n",
              "    <tr>\n",
              "      <th>1</th>\n",
              "      <td>Please Give</td>\n",
              "      <td>Comedy</td>\n",
              "      <td>2010-04-30</td>\n",
              "      <td>90.0</td>\n",
              "      <td>87.0</td>\n",
              "      <td>Comedy</td>\n",
              "    </tr>\n",
              "    <tr>\n",
              "      <th>2</th>\n",
              "      <td>10</td>\n",
              "      <td>Comedy, Romance</td>\n",
              "      <td>1979-10-05</td>\n",
              "      <td>122.0</td>\n",
              "      <td>67.0</td>\n",
              "      <td>Comedy</td>\n",
              "    </tr>\n",
              "    <tr>\n",
              "      <th>3</th>\n",
              "      <td>12 Angry Men (Twelve ...</td>\n",
              "      <td>Classics, Drama</td>\n",
              "      <td>1957-04-13</td>\n",
              "      <td>95.0</td>\n",
              "      <td>100.0</td>\n",
              "      <td>Classics</td>\n",
              "    </tr>\n",
              "    <tr>\n",
              "      <th>4</th>\n",
              "      <td>20,000 Leagues Under ...</td>\n",
              "      <td>Action &amp; Adventure, D...</td>\n",
              "      <td>1954-01-01</td>\n",
              "      <td>127.0</td>\n",
              "      <td>89.0</td>\n",
              "      <td>Action &amp; Adventure</td>\n",
              "    </tr>\n",
              "  </tbody>\n",
              "</table>\n",
              "</div>"
            ],
            "text/plain": [
              "                movie_title  ...          main_genre\n",
              "0  Percy Jackson & the O...  ...  Action & Adventure\n",
              "1               Please Give  ...              Comedy\n",
              "2                        10  ...              Comedy\n",
              "3  12 Angry Men (Twelve ...  ...            Classics\n",
              "4  20,000 Leagues Under ...  ...  Action & Adventure\n",
              "\n",
              "[5 rows x 6 columns]"
            ]
          },
          "metadata": {},
          "execution_count": 10
        }
      ]
    },
    {
      "cell_type": "code",
      "metadata": {
        "colab": {
          "base_uri": "https://localhost:8080/"
        },
        "id": "4Eyl9DC9wOkg",
        "outputId": "ca118b79-b947-4d9e-a251-acea13fcf291"
      },
      "source": [
        "# count of movies per main_genre\n",
        "f_l.main_genre.value_counts()"
      ],
      "execution_count": 11,
      "outputs": [
        {
          "output_type": "execute_result",
          "data": {
            "text/plain": [
              "Drama                        3789\n",
              "Comedy                       3725\n",
              "Action & Adventure           3551\n",
              "Art House & International    2021\n",
              "Documentary                  1725\n",
              "Classics                     1110\n",
              "Horror                        943\n",
              "Animation                     379\n",
              "Mystery & Suspense            289\n",
              "Kids & Family                  46\n",
              "Science Fiction & Fantasy      40\n",
              "Musical & Performing Arts      26\n",
              "Cult Movies                    22\n",
              "Romance                        14\n",
              "Western                         9\n",
              "Special Interest                3\n",
              "Television                      1\n",
              "Name: main_genre, dtype: int64"
            ]
          },
          "metadata": {},
          "execution_count": 11
        }
      ]
    },
    {
      "cell_type": "code",
      "metadata": {
        "colab": {
          "base_uri": "https://localhost:8080/",
          "height": 645
        },
        "id": "5Y3eNsh01MQ-",
        "outputId": "dc6a9e91-4a66-470f-bcd8-40def4a9406e"
      },
      "source": [
        "# check for rows with main_genre NaN\n",
        "f_l[f_l['main_genre'].isna()]"
      ],
      "execution_count": 12,
      "outputs": [
        {
          "output_type": "execute_result",
          "data": {
            "text/html": [
              "<div>\n",
              "<style scoped>\n",
              "    .dataframe tbody tr th:only-of-type {\n",
              "        vertical-align: middle;\n",
              "    }\n",
              "\n",
              "    .dataframe tbody tr th {\n",
              "        vertical-align: top;\n",
              "    }\n",
              "\n",
              "    .dataframe thead th {\n",
              "        text-align: right;\n",
              "    }\n",
              "</style>\n",
              "<table border=\"1\" class=\"dataframe\">\n",
              "  <thead>\n",
              "    <tr style=\"text-align: right;\">\n",
              "      <th></th>\n",
              "      <th>movie_title</th>\n",
              "      <th>genres</th>\n",
              "      <th>original_release_date</th>\n",
              "      <th>runtime</th>\n",
              "      <th>tomatometer_rating</th>\n",
              "      <th>main_genre</th>\n",
              "    </tr>\n",
              "  </thead>\n",
              "  <tbody>\n",
              "    <tr>\n",
              "      <th>1987</th>\n",
              "      <td>400 Days</td>\n",
              "      <td>NaN</td>\n",
              "      <td>2016-01-15</td>\n",
              "      <td>91.0</td>\n",
              "      <td>22.0</td>\n",
              "      <td>NaN</td>\n",
              "    </tr>\n",
              "    <tr>\n",
              "      <th>2552</th>\n",
              "      <td>All the Way</td>\n",
              "      <td>NaN</td>\n",
              "      <td>2016-05-21</td>\n",
              "      <td>132.0</td>\n",
              "      <td>87.0</td>\n",
              "      <td>NaN</td>\n",
              "    </tr>\n",
              "    <tr>\n",
              "      <th>3233</th>\n",
              "      <td>Batman: Hush</td>\n",
              "      <td>NaN</td>\n",
              "      <td>NaN</td>\n",
              "      <td>82.0</td>\n",
              "      <td>88.0</td>\n",
              "      <td>NaN</td>\n",
              "    </tr>\n",
              "    <tr>\n",
              "      <th>3236</th>\n",
              "      <td>Batman: Return Of The...</td>\n",
              "      <td>NaN</td>\n",
              "      <td>NaN</td>\n",
              "      <td>78.0</td>\n",
              "      <td>94.0</td>\n",
              "      <td>NaN</td>\n",
              "    </tr>\n",
              "    <tr>\n",
              "      <th>3246</th>\n",
              "      <td>Batman vs. Two-Face</td>\n",
              "      <td>NaN</td>\n",
              "      <td>NaN</td>\n",
              "      <td>72.0</td>\n",
              "      <td>100.0</td>\n",
              "      <td>NaN</td>\n",
              "    </tr>\n",
              "    <tr>\n",
              "      <th>5004</th>\n",
              "      <td>Cross of Iron</td>\n",
              "      <td>NaN</td>\n",
              "      <td>1977-01-01</td>\n",
              "      <td>119.0</td>\n",
              "      <td>75.0</td>\n",
              "      <td>NaN</td>\n",
              "    </tr>\n",
              "    <tr>\n",
              "      <th>5409</th>\n",
              "      <td>Descendants 2</td>\n",
              "      <td>NaN</td>\n",
              "      <td>NaN</td>\n",
              "      <td>111.0</td>\n",
              "      <td>71.0</td>\n",
              "      <td>NaN</td>\n",
              "    </tr>\n",
              "    <tr>\n",
              "      <th>8604</th>\n",
              "      <td>Jane Wants a Boyfriend</td>\n",
              "      <td>NaN</td>\n",
              "      <td>2016-03-25</td>\n",
              "      <td>101.0</td>\n",
              "      <td>38.0</td>\n",
              "      <td>NaN</td>\n",
              "    </tr>\n",
              "    <tr>\n",
              "      <th>8860</th>\n",
              "      <td>Justice League vs the...</td>\n",
              "      <td>NaN</td>\n",
              "      <td>NaN</td>\n",
              "      <td>77.0</td>\n",
              "      <td>100.0</td>\n",
              "      <td>NaN</td>\n",
              "    </tr>\n",
              "    <tr>\n",
              "      <th>9746</th>\n",
              "      <td>Lost in the Sun</td>\n",
              "      <td>NaN</td>\n",
              "      <td>2015-11-06</td>\n",
              "      <td>95.0</td>\n",
              "      <td>20.0</td>\n",
              "      <td>NaN</td>\n",
              "    </tr>\n",
              "    <tr>\n",
              "      <th>10074</th>\n",
              "      <td>Manson Family Vacation</td>\n",
              "      <td>NaN</td>\n",
              "      <td>NaN</td>\n",
              "      <td>84.0</td>\n",
              "      <td>100.0</td>\n",
              "      <td>NaN</td>\n",
              "    </tr>\n",
              "    <tr>\n",
              "      <th>11929</th>\n",
              "      <td>Pokémon The Movie: I ...</td>\n",
              "      <td>NaN</td>\n",
              "      <td>2017-11-05</td>\n",
              "      <td>98.0</td>\n",
              "      <td>33.0</td>\n",
              "      <td>NaN</td>\n",
              "    </tr>\n",
              "    <tr>\n",
              "      <th>14029</th>\n",
              "      <td>Suicide Squad: Hell t...</td>\n",
              "      <td>NaN</td>\n",
              "      <td>NaN</td>\n",
              "      <td>91.0</td>\n",
              "      <td>88.0</td>\n",
              "      <td>NaN</td>\n",
              "    </tr>\n",
              "    <tr>\n",
              "      <th>14772</th>\n",
              "      <td>The Crucifixion</td>\n",
              "      <td>NaN</td>\n",
              "      <td>NaN</td>\n",
              "      <td>90.0</td>\n",
              "      <td>6.0</td>\n",
              "      <td>NaN</td>\n",
              "    </tr>\n",
              "    <tr>\n",
              "      <th>14813</th>\n",
              "      <td>The Debt Collector</td>\n",
              "      <td>NaN</td>\n",
              "      <td>NaN</td>\n",
              "      <td>96.0</td>\n",
              "      <td>83.0</td>\n",
              "      <td>NaN</td>\n",
              "    </tr>\n",
              "    <tr>\n",
              "      <th>14972</th>\n",
              "      <td>The Forest of Love</td>\n",
              "      <td>NaN</td>\n",
              "      <td>2019-10-11</td>\n",
              "      <td>151.0</td>\n",
              "      <td>100.0</td>\n",
              "      <td>NaN</td>\n",
              "    </tr>\n",
              "    <tr>\n",
              "      <th>15266</th>\n",
              "      <td>The Jurassic Games</td>\n",
              "      <td>NaN</td>\n",
              "      <td>NaN</td>\n",
              "      <td>86.0</td>\n",
              "      <td>71.0</td>\n",
              "      <td>NaN</td>\n",
              "    </tr>\n",
              "    <tr>\n",
              "      <th>15565</th>\n",
              "      <td>The Other Side of Eve...</td>\n",
              "      <td>NaN</td>\n",
              "      <td>NaN</td>\n",
              "      <td>100.0</td>\n",
              "      <td>91.0</td>\n",
              "      <td>NaN</td>\n",
              "    </tr>\n",
              "    <tr>\n",
              "      <th>17497</th>\n",
              "      <td>Wonder Woman: Bloodlines</td>\n",
              "      <td>NaN</td>\n",
              "      <td>NaN</td>\n",
              "      <td>83.0</td>\n",
              "      <td>88.0</td>\n",
              "      <td>NaN</td>\n",
              "    </tr>\n",
              "  </tbody>\n",
              "</table>\n",
              "</div>"
            ],
            "text/plain": [
              "                    movie_title genres  ... tomatometer_rating  main_genre\n",
              "1987                   400 Days    NaN  ...               22.0         NaN\n",
              "2552                All the Way    NaN  ...               87.0         NaN\n",
              "3233               Batman: Hush    NaN  ...               88.0         NaN\n",
              "3236   Batman: Return Of The...    NaN  ...               94.0         NaN\n",
              "3246        Batman vs. Two-Face    NaN  ...              100.0         NaN\n",
              "5004              Cross of Iron    NaN  ...               75.0         NaN\n",
              "5409              Descendants 2    NaN  ...               71.0         NaN\n",
              "8604     Jane Wants a Boyfriend    NaN  ...               38.0         NaN\n",
              "8860   Justice League vs the...    NaN  ...              100.0         NaN\n",
              "9746            Lost in the Sun    NaN  ...               20.0         NaN\n",
              "10074    Manson Family Vacation    NaN  ...              100.0         NaN\n",
              "11929  Pokémon The Movie: I ...    NaN  ...               33.0         NaN\n",
              "14029  Suicide Squad: Hell t...    NaN  ...               88.0         NaN\n",
              "14772           The Crucifixion    NaN  ...                6.0         NaN\n",
              "14813        The Debt Collector    NaN  ...               83.0         NaN\n",
              "14972        The Forest of Love    NaN  ...              100.0         NaN\n",
              "15266        The Jurassic Games    NaN  ...               71.0         NaN\n",
              "15565  The Other Side of Eve...    NaN  ...               91.0         NaN\n",
              "17497  Wonder Woman: Bloodlines    NaN  ...               88.0         NaN\n",
              "\n",
              "[19 rows x 6 columns]"
            ]
          },
          "metadata": {},
          "execution_count": 12
        }
      ]
    },
    {
      "cell_type": "code",
      "metadata": {
        "colab": {
          "base_uri": "https://localhost:8080/"
        },
        "id": "GraVRF3U2bEP",
        "outputId": "7ebc7859-9c43-473a-c6cd-27039461c03c"
      },
      "source": [
        "# drop rows \n",
        "f_l = f_l.dropna(subset=['main_genre'])\n",
        "f_l.shape"
      ],
      "execution_count": 13,
      "outputs": [
        {
          "output_type": "execute_result",
          "data": {
            "text/plain": [
              "(17693, 6)"
            ]
          },
          "metadata": {},
          "execution_count": 13
        }
      ]
    },
    {
      "cell_type": "markdown",
      "metadata": {
        "id": "Lik5xaz53D32"
      },
      "source": [
        "#### Year of Release Date"
      ]
    },
    {
      "cell_type": "code",
      "metadata": {
        "colab": {
          "base_uri": "https://localhost:8080/",
          "height": 206
        },
        "id": "vaTLJGlmHKsv",
        "outputId": "cd860fd3-bdc1-4376-c469-c36e74b1589c"
      },
      "source": [
        "# split the year from the movie original_release_date and save it in a new column\n",
        "f_l['year'] = f_l['original_release_date'].str.split('-').str[0]\n",
        "\n",
        "# check for nan values in year column\n",
        "year_nan = f_l[f_l.year.isna()]\n",
        "\n",
        "year_nan.head()"
      ],
      "execution_count": 14,
      "outputs": [
        {
          "output_type": "execute_result",
          "data": {
            "text/html": [
              "<div>\n",
              "<style scoped>\n",
              "    .dataframe tbody tr th:only-of-type {\n",
              "        vertical-align: middle;\n",
              "    }\n",
              "\n",
              "    .dataframe tbody tr th {\n",
              "        vertical-align: top;\n",
              "    }\n",
              "\n",
              "    .dataframe thead th {\n",
              "        text-align: right;\n",
              "    }\n",
              "</style>\n",
              "<table border=\"1\" class=\"dataframe\">\n",
              "  <thead>\n",
              "    <tr style=\"text-align: right;\">\n",
              "      <th></th>\n",
              "      <th>movie_title</th>\n",
              "      <th>genres</th>\n",
              "      <th>original_release_date</th>\n",
              "      <th>runtime</th>\n",
              "      <th>tomatometer_rating</th>\n",
              "      <th>main_genre</th>\n",
              "      <th>year</th>\n",
              "    </tr>\n",
              "  </thead>\n",
              "  <tbody>\n",
              "    <tr>\n",
              "      <th>58</th>\n",
              "      <td>All Quiet on the West...</td>\n",
              "      <td>Drama</td>\n",
              "      <td>NaN</td>\n",
              "      <td>156.0</td>\n",
              "      <td>100.0</td>\n",
              "      <td>Drama</td>\n",
              "      <td>NaN</td>\n",
              "    </tr>\n",
              "    <tr>\n",
              "      <th>72</th>\n",
              "      <td>The Silence</td>\n",
              "      <td>Action &amp; Adventure, D...</td>\n",
              "      <td>NaN</td>\n",
              "      <td>104.0</td>\n",
              "      <td>50.0</td>\n",
              "      <td>Action &amp; Adventure</td>\n",
              "      <td>NaN</td>\n",
              "    </tr>\n",
              "    <tr>\n",
              "      <th>158</th>\n",
              "      <td>The Broken</td>\n",
              "      <td>Horror, Mystery &amp; Sus...</td>\n",
              "      <td>NaN</td>\n",
              "      <td>88.0</td>\n",
              "      <td>49.0</td>\n",
              "      <td>Horror</td>\n",
              "      <td>NaN</td>\n",
              "    </tr>\n",
              "    <tr>\n",
              "      <th>267</th>\n",
              "      <td>Three Blind Mice</td>\n",
              "      <td>Comedy, Drama</td>\n",
              "      <td>NaN</td>\n",
              "      <td>94.0</td>\n",
              "      <td>80.0</td>\n",
              "      <td>Comedy</td>\n",
              "      <td>NaN</td>\n",
              "    </tr>\n",
              "    <tr>\n",
              "      <th>297</th>\n",
              "      <td>Avenging Angel</td>\n",
              "      <td>Action &amp; Adventure, D...</td>\n",
              "      <td>NaN</td>\n",
              "      <td>93.0</td>\n",
              "      <td>33.0</td>\n",
              "      <td>Action &amp; Adventure</td>\n",
              "      <td>NaN</td>\n",
              "    </tr>\n",
              "  </tbody>\n",
              "</table>\n",
              "</div>"
            ],
            "text/plain": [
              "                  movie_title  ... year\n",
              "58   All Quiet on the West...  ...  NaN\n",
              "72                The Silence  ...  NaN\n",
              "158                The Broken  ...  NaN\n",
              "267          Three Blind Mice  ...  NaN\n",
              "297            Avenging Angel  ...  NaN\n",
              "\n",
              "[5 rows x 7 columns]"
            ]
          },
          "metadata": {},
          "execution_count": 14
        }
      ]
    },
    {
      "cell_type": "code",
      "metadata": {
        "colab": {
          "base_uri": "https://localhost:8080/"
        },
        "id": "9pv1vpJOIfle",
        "outputId": "e243c112-ebf2-4c2e-9919-8e294ce32704"
      },
      "source": [
        "# print number of nan values in year column\n",
        "print(f'NaN values in year column: {f_l.year.isna().sum()}')"
      ],
      "execution_count": 15,
      "outputs": [
        {
          "output_type": "stream",
          "name": "stdout",
          "text": [
            "NaN values in year column: 1154\n"
          ]
        }
      ]
    },
    {
      "cell_type": "code",
      "metadata": {
        "id": "fmVL_mj50AL0"
      },
      "source": [
        "# Drop NaN values without the year \n",
        "f_l = f_l.dropna(subset=['year'])"
      ],
      "execution_count": 16,
      "outputs": []
    },
    {
      "cell_type": "code",
      "metadata": {
        "id": "PK5dks6k0ZDi"
      },
      "source": [
        "# turn year column to int\n",
        "f_l['year'] = f_l.year.astype(int)"
      ],
      "execution_count": 17,
      "outputs": []
    },
    {
      "cell_type": "markdown",
      "metadata": {
        "id": "PDRQDqgPLRXY"
      },
      "source": [
        "#### Runtime\n"
      ]
    },
    {
      "cell_type": "code",
      "metadata": {
        "colab": {
          "base_uri": "https://localhost:8080/"
        },
        "id": "WS8ayXszLT5q",
        "outputId": "375bf283-0bd8-442f-d932-1a99fdec5a96"
      },
      "source": [
        "# print number of NaN values in runtime column\n",
        "print(f'NaN values in runtime column: {f_l.runtime.isna().sum()}')\n",
        "\n",
        "# print mean of runtime column\n",
        "print(f'Mean of runtime column: {f_l.runtime.mean()}')"
      ],
      "execution_count": 18,
      "outputs": [
        {
          "output_type": "stream",
          "name": "stdout",
          "text": [
            "NaN values in runtime column: 164\n",
            "Mean of runtime column: 102.65832061068703\n"
          ]
        }
      ]
    },
    {
      "cell_type": "code",
      "metadata": {
        "colab": {
          "base_uri": "https://localhost:8080/",
          "height": 243
        },
        "id": "Rei1gl6KL_CT",
        "outputId": "fe868fbc-fcf9-4ec9-eba3-082aa649c740"
      },
      "source": [
        "# replace NaN values in runtime for its mean value\n",
        "f_l['runtime'] = f_l.runtime.fillna(f_l.runtime.mean())\n",
        "\n",
        "# print number of NaN values in runtime column\n",
        "print(f'NaN values in runtime column: {f_l.runtime.isna().sum()}')\n",
        "\n",
        "# print mean of runtime column\n",
        "print(f'Mean of runtime column: {f_l.runtime.mean()}')\n",
        "\n",
        "f_l.head()"
      ],
      "execution_count": 19,
      "outputs": [
        {
          "output_type": "stream",
          "name": "stdout",
          "text": [
            "NaN values in runtime column: 0\n",
            "Mean of runtime column: 102.65832061068676\n"
          ]
        },
        {
          "output_type": "execute_result",
          "data": {
            "text/html": [
              "<div>\n",
              "<style scoped>\n",
              "    .dataframe tbody tr th:only-of-type {\n",
              "        vertical-align: middle;\n",
              "    }\n",
              "\n",
              "    .dataframe tbody tr th {\n",
              "        vertical-align: top;\n",
              "    }\n",
              "\n",
              "    .dataframe thead th {\n",
              "        text-align: right;\n",
              "    }\n",
              "</style>\n",
              "<table border=\"1\" class=\"dataframe\">\n",
              "  <thead>\n",
              "    <tr style=\"text-align: right;\">\n",
              "      <th></th>\n",
              "      <th>movie_title</th>\n",
              "      <th>genres</th>\n",
              "      <th>original_release_date</th>\n",
              "      <th>runtime</th>\n",
              "      <th>tomatometer_rating</th>\n",
              "      <th>main_genre</th>\n",
              "      <th>year</th>\n",
              "    </tr>\n",
              "  </thead>\n",
              "  <tbody>\n",
              "    <tr>\n",
              "      <th>0</th>\n",
              "      <td>Percy Jackson &amp; the O...</td>\n",
              "      <td>Action &amp; Adventure, C...</td>\n",
              "      <td>2010-02-12</td>\n",
              "      <td>119.0</td>\n",
              "      <td>49.0</td>\n",
              "      <td>Action &amp; Adventure</td>\n",
              "      <td>2010</td>\n",
              "    </tr>\n",
              "    <tr>\n",
              "      <th>1</th>\n",
              "      <td>Please Give</td>\n",
              "      <td>Comedy</td>\n",
              "      <td>2010-04-30</td>\n",
              "      <td>90.0</td>\n",
              "      <td>87.0</td>\n",
              "      <td>Comedy</td>\n",
              "      <td>2010</td>\n",
              "    </tr>\n",
              "    <tr>\n",
              "      <th>2</th>\n",
              "      <td>10</td>\n",
              "      <td>Comedy, Romance</td>\n",
              "      <td>1979-10-05</td>\n",
              "      <td>122.0</td>\n",
              "      <td>67.0</td>\n",
              "      <td>Comedy</td>\n",
              "      <td>1979</td>\n",
              "    </tr>\n",
              "    <tr>\n",
              "      <th>3</th>\n",
              "      <td>12 Angry Men (Twelve ...</td>\n",
              "      <td>Classics, Drama</td>\n",
              "      <td>1957-04-13</td>\n",
              "      <td>95.0</td>\n",
              "      <td>100.0</td>\n",
              "      <td>Classics</td>\n",
              "      <td>1957</td>\n",
              "    </tr>\n",
              "    <tr>\n",
              "      <th>4</th>\n",
              "      <td>20,000 Leagues Under ...</td>\n",
              "      <td>Action &amp; Adventure, D...</td>\n",
              "      <td>1954-01-01</td>\n",
              "      <td>127.0</td>\n",
              "      <td>89.0</td>\n",
              "      <td>Action &amp; Adventure</td>\n",
              "      <td>1954</td>\n",
              "    </tr>\n",
              "  </tbody>\n",
              "</table>\n",
              "</div>"
            ],
            "text/plain": [
              "                movie_title                    genres  ...          main_genre  year\n",
              "0  Percy Jackson & the O...  Action & Adventure, C...  ...  Action & Adventure  2010\n",
              "1               Please Give                    Comedy  ...              Comedy  2010\n",
              "2                        10           Comedy, Romance  ...              Comedy  1979\n",
              "3  12 Angry Men (Twelve ...           Classics, Drama  ...            Classics  1957\n",
              "4  20,000 Leagues Under ...  Action & Adventure, D...  ...  Action & Adventure  1954\n",
              "\n",
              "[5 rows x 7 columns]"
            ]
          },
          "metadata": {},
          "execution_count": 19
        }
      ]
    },
    {
      "cell_type": "markdown",
      "metadata": {
        "id": "BlX7lOwiMfGT"
      },
      "source": [
        "#### Tomatomer Rating"
      ]
    },
    {
      "cell_type": "code",
      "metadata": {
        "colab": {
          "base_uri": "https://localhost:8080/"
        },
        "id": "PpYtBxpCMjMS",
        "outputId": "48e9ffda-5a90-43b8-8b6b-c378a6e152f7"
      },
      "source": [
        "# check for NaN values in tomatometer_rating \n",
        "print(f'NaN values in tomatometer_rating column: {f_l.tomatometer_rating.isna().sum()}')\n",
        "\n",
        "# Mean of tomatometer_rating score\n",
        "print(f'Mean tomatometer_rating: {f_l.tomatometer_rating.mean()}')"
      ],
      "execution_count": 20,
      "outputs": [
        {
          "output_type": "stream",
          "name": "stdout",
          "text": [
            "NaN values in tomatometer_rating column: 32\n",
            "Mean tomatometer_rating: 60.518264978493974\n"
          ]
        }
      ]
    },
    {
      "cell_type": "code",
      "metadata": {
        "colab": {
          "base_uri": "https://localhost:8080/",
          "height": 243
        },
        "id": "geQDfHBjNND6",
        "outputId": "b3959f41-651b-4982-cfe3-1af3b2392ef2"
      },
      "source": [
        "# replace NaN values with mean score\n",
        "f_l['tomatometer_rating'] = f_l.tomatometer_rating.fillna(f_l.tomatometer_rating.mean())\n",
        "\n",
        "# check for NaN values in tomatometer_rating \n",
        "print(f'NaN values in tomatometer_rating column: {f_l.tomatometer_rating.isna().sum()}')\n",
        "\n",
        "# Mean of tomatometer_rating score\n",
        "print(f'Mean tomatometer_rating: {f_l.tomatometer_rating.mean()}')\n",
        "\n",
        "f_l.head()"
      ],
      "execution_count": 21,
      "outputs": [
        {
          "output_type": "stream",
          "name": "stdout",
          "text": [
            "NaN values in tomatometer_rating column: 0\n",
            "Mean tomatometer_rating: 60.51826497849401\n"
          ]
        },
        {
          "output_type": "execute_result",
          "data": {
            "text/html": [
              "<div>\n",
              "<style scoped>\n",
              "    .dataframe tbody tr th:only-of-type {\n",
              "        vertical-align: middle;\n",
              "    }\n",
              "\n",
              "    .dataframe tbody tr th {\n",
              "        vertical-align: top;\n",
              "    }\n",
              "\n",
              "    .dataframe thead th {\n",
              "        text-align: right;\n",
              "    }\n",
              "</style>\n",
              "<table border=\"1\" class=\"dataframe\">\n",
              "  <thead>\n",
              "    <tr style=\"text-align: right;\">\n",
              "      <th></th>\n",
              "      <th>movie_title</th>\n",
              "      <th>genres</th>\n",
              "      <th>original_release_date</th>\n",
              "      <th>runtime</th>\n",
              "      <th>tomatometer_rating</th>\n",
              "      <th>main_genre</th>\n",
              "      <th>year</th>\n",
              "    </tr>\n",
              "  </thead>\n",
              "  <tbody>\n",
              "    <tr>\n",
              "      <th>0</th>\n",
              "      <td>Percy Jackson &amp; the O...</td>\n",
              "      <td>Action &amp; Adventure, C...</td>\n",
              "      <td>2010-02-12</td>\n",
              "      <td>119.0</td>\n",
              "      <td>49.0</td>\n",
              "      <td>Action &amp; Adventure</td>\n",
              "      <td>2010</td>\n",
              "    </tr>\n",
              "    <tr>\n",
              "      <th>1</th>\n",
              "      <td>Please Give</td>\n",
              "      <td>Comedy</td>\n",
              "      <td>2010-04-30</td>\n",
              "      <td>90.0</td>\n",
              "      <td>87.0</td>\n",
              "      <td>Comedy</td>\n",
              "      <td>2010</td>\n",
              "    </tr>\n",
              "    <tr>\n",
              "      <th>2</th>\n",
              "      <td>10</td>\n",
              "      <td>Comedy, Romance</td>\n",
              "      <td>1979-10-05</td>\n",
              "      <td>122.0</td>\n",
              "      <td>67.0</td>\n",
              "      <td>Comedy</td>\n",
              "      <td>1979</td>\n",
              "    </tr>\n",
              "    <tr>\n",
              "      <th>3</th>\n",
              "      <td>12 Angry Men (Twelve ...</td>\n",
              "      <td>Classics, Drama</td>\n",
              "      <td>1957-04-13</td>\n",
              "      <td>95.0</td>\n",
              "      <td>100.0</td>\n",
              "      <td>Classics</td>\n",
              "      <td>1957</td>\n",
              "    </tr>\n",
              "    <tr>\n",
              "      <th>4</th>\n",
              "      <td>20,000 Leagues Under ...</td>\n",
              "      <td>Action &amp; Adventure, D...</td>\n",
              "      <td>1954-01-01</td>\n",
              "      <td>127.0</td>\n",
              "      <td>89.0</td>\n",
              "      <td>Action &amp; Adventure</td>\n",
              "      <td>1954</td>\n",
              "    </tr>\n",
              "  </tbody>\n",
              "</table>\n",
              "</div>"
            ],
            "text/plain": [
              "                movie_title                    genres  ...          main_genre  year\n",
              "0  Percy Jackson & the O...  Action & Adventure, C...  ...  Action & Adventure  2010\n",
              "1               Please Give                    Comedy  ...              Comedy  2010\n",
              "2                        10           Comedy, Romance  ...              Comedy  1979\n",
              "3  12 Angry Men (Twelve ...           Classics, Drama  ...            Classics  1957\n",
              "4  20,000 Leagues Under ...  Action & Adventure, D...  ...  Action & Adventure  1954\n",
              "\n",
              "[5 rows x 7 columns]"
            ]
          },
          "metadata": {},
          "execution_count": 21
        }
      ]
    },
    {
      "cell_type": "markdown",
      "metadata": {
        "id": "aKjE18xGNik6"
      },
      "source": [
        "### Feature & Label Selection"
      ]
    },
    {
      "cell_type": "code",
      "metadata": {
        "colab": {
          "base_uri": "https://localhost:8080/",
          "height": 206
        },
        "id": "7AfKtYUQNn5A",
        "outputId": "a52c4523-c3bc-44d3-95e6-819467726033"
      },
      "source": [
        "# select columns from df\n",
        "df_fl = f_l[['movie_title', 'main_genre', 'runtime', 'year', 'tomatometer_rating',]]\n",
        "\n",
        "df_fl.head()"
      ],
      "execution_count": 22,
      "outputs": [
        {
          "output_type": "execute_result",
          "data": {
            "text/html": [
              "<div>\n",
              "<style scoped>\n",
              "    .dataframe tbody tr th:only-of-type {\n",
              "        vertical-align: middle;\n",
              "    }\n",
              "\n",
              "    .dataframe tbody tr th {\n",
              "        vertical-align: top;\n",
              "    }\n",
              "\n",
              "    .dataframe thead th {\n",
              "        text-align: right;\n",
              "    }\n",
              "</style>\n",
              "<table border=\"1\" class=\"dataframe\">\n",
              "  <thead>\n",
              "    <tr style=\"text-align: right;\">\n",
              "      <th></th>\n",
              "      <th>movie_title</th>\n",
              "      <th>main_genre</th>\n",
              "      <th>runtime</th>\n",
              "      <th>year</th>\n",
              "      <th>tomatometer_rating</th>\n",
              "    </tr>\n",
              "  </thead>\n",
              "  <tbody>\n",
              "    <tr>\n",
              "      <th>0</th>\n",
              "      <td>Percy Jackson &amp; the O...</td>\n",
              "      <td>Action &amp; Adventure</td>\n",
              "      <td>119.0</td>\n",
              "      <td>2010</td>\n",
              "      <td>49.0</td>\n",
              "    </tr>\n",
              "    <tr>\n",
              "      <th>1</th>\n",
              "      <td>Please Give</td>\n",
              "      <td>Comedy</td>\n",
              "      <td>90.0</td>\n",
              "      <td>2010</td>\n",
              "      <td>87.0</td>\n",
              "    </tr>\n",
              "    <tr>\n",
              "      <th>2</th>\n",
              "      <td>10</td>\n",
              "      <td>Comedy</td>\n",
              "      <td>122.0</td>\n",
              "      <td>1979</td>\n",
              "      <td>67.0</td>\n",
              "    </tr>\n",
              "    <tr>\n",
              "      <th>3</th>\n",
              "      <td>12 Angry Men (Twelve ...</td>\n",
              "      <td>Classics</td>\n",
              "      <td>95.0</td>\n",
              "      <td>1957</td>\n",
              "      <td>100.0</td>\n",
              "    </tr>\n",
              "    <tr>\n",
              "      <th>4</th>\n",
              "      <td>20,000 Leagues Under ...</td>\n",
              "      <td>Action &amp; Adventure</td>\n",
              "      <td>127.0</td>\n",
              "      <td>1954</td>\n",
              "      <td>89.0</td>\n",
              "    </tr>\n",
              "  </tbody>\n",
              "</table>\n",
              "</div>"
            ],
            "text/plain": [
              "                movie_title          main_genre  ...  year  tomatometer_rating\n",
              "0  Percy Jackson & the O...  Action & Adventure  ...  2010                49.0\n",
              "1               Please Give              Comedy  ...  2010                87.0\n",
              "2                        10              Comedy  ...  1979                67.0\n",
              "3  12 Angry Men (Twelve ...            Classics  ...  1957               100.0\n",
              "4  20,000 Leagues Under ...  Action & Adventure  ...  1954                89.0\n",
              "\n",
              "[5 rows x 5 columns]"
            ]
          },
          "metadata": {},
          "execution_count": 22
        }
      ]
    },
    {
      "cell_type": "code",
      "metadata": {
        "colab": {
          "base_uri": "https://localhost:8080/"
        },
        "id": "QTqUHx-MPEK1",
        "outputId": "a803911b-e584-4fbd-cbff-e2f56977b904"
      },
      "source": [
        "# shape of DataFrame\n",
        "df_fl.shape"
      ],
      "execution_count": 23,
      "outputs": [
        {
          "output_type": "execute_result",
          "data": {
            "text/plain": [
              "(16539, 5)"
            ]
          },
          "metadata": {},
          "execution_count": 23
        }
      ]
    },
    {
      "cell_type": "code",
      "metadata": {
        "colab": {
          "base_uri": "https://localhost:8080/"
        },
        "id": "qO_Ge_vBORCR",
        "outputId": "682e1e19-29b7-4793-dbb1-1ab791fe28cd"
      },
      "source": [
        "# check column types\n",
        "df_fl.dtypes"
      ],
      "execution_count": 24,
      "outputs": [
        {
          "output_type": "execute_result",
          "data": {
            "text/plain": [
              "movie_title            object\n",
              "main_genre             object\n",
              "runtime               float64\n",
              "year                    int64\n",
              "tomatometer_rating    float64\n",
              "dtype: object"
            ]
          },
          "metadata": {},
          "execution_count": 24
        }
      ]
    },
    {
      "cell_type": "code",
      "metadata": {
        "colab": {
          "base_uri": "https://localhost:8080/",
          "height": 411
        },
        "id": "vMA3YuPrOryj",
        "outputId": "0448cb8f-eb3a-4d3b-f4aa-2b0d3c8ce3cd"
      },
      "source": [
        "# check for NaN values\n",
        "msg.matrix(df_fl, figsize=(12, 4))"
      ],
      "execution_count": 25,
      "outputs": [
        {
          "output_type": "execute_result",
          "data": {
            "text/plain": [
              "<matplotlib.axes._subplots.AxesSubplot at 0x7fd628bf62d0>"
            ]
          },
          "metadata": {},
          "execution_count": 25
        },
        {
          "output_type": "display_data",
          "data": {
            "image/png": "[encoded data removed]",
            "text/plain": [
              "<Figure size 864x288 with 2 Axes>"
            ]
          },
          "metadata": {
            "needs_background": "light"
          }
        }
      ]
    },
    {
      "cell_type": "code",
      "metadata": {
        "colab": {
          "base_uri": "https://localhost:8080/",
          "height": 300
        },
        "id": "FUASOLk0O8vl",
        "outputId": "e4dcf0e4-a4aa-4e10-d532-0d83bb564140"
      },
      "source": [
        "# descriptive statistics of numeric columns\n",
        "df_fl.describe()"
      ],
      "execution_count": 26,
      "outputs": [
        {
          "output_type": "execute_result",
          "data": {
            "text/html": [
              "<div>\n",
              "<style scoped>\n",
              "    .dataframe tbody tr th:only-of-type {\n",
              "        vertical-align: middle;\n",
              "    }\n",
              "\n",
              "    .dataframe tbody tr th {\n",
              "        vertical-align: top;\n",
              "    }\n",
              "\n",
              "    .dataframe thead th {\n",
              "        text-align: right;\n",
              "    }\n",
              "</style>\n",
              "<table border=\"1\" class=\"dataframe\">\n",
              "  <thead>\n",
              "    <tr style=\"text-align: right;\">\n",
              "      <th></th>\n",
              "      <th>runtime</th>\n",
              "      <th>year</th>\n",
              "      <th>tomatometer_rating</th>\n",
              "    </tr>\n",
              "  </thead>\n",
              "  <tbody>\n",
              "    <tr>\n",
              "      <th>count</th>\n",
              "      <td>16539.000000</td>\n",
              "      <td>16539.000000</td>\n",
              "      <td>16539.000000</td>\n",
              "    </tr>\n",
              "    <tr>\n",
              "      <th>mean</th>\n",
              "      <td>102.658321</td>\n",
              "      <td>1999.574339</td>\n",
              "      <td>60.518265</td>\n",
              "    </tr>\n",
              "    <tr>\n",
              "      <th>std</th>\n",
              "      <td>18.623461</td>\n",
              "      <td>19.602235</td>\n",
              "      <td>28.349617</td>\n",
              "    </tr>\n",
              "    <tr>\n",
              "      <th>min</th>\n",
              "      <td>8.000000</td>\n",
              "      <td>1914.000000</td>\n",
              "      <td>0.000000</td>\n",
              "    </tr>\n",
              "    <tr>\n",
              "      <th>25%</th>\n",
              "      <td>91.000000</td>\n",
              "      <td>1993.000000</td>\n",
              "      <td>38.000000</td>\n",
              "    </tr>\n",
              "    <tr>\n",
              "      <th>50%</th>\n",
              "      <td>100.000000</td>\n",
              "      <td>2006.000000</td>\n",
              "      <td>66.000000</td>\n",
              "    </tr>\n",
              "    <tr>\n",
              "      <th>75%</th>\n",
              "      <td>111.000000</td>\n",
              "      <td>2013.000000</td>\n",
              "      <td>85.000000</td>\n",
              "    </tr>\n",
              "    <tr>\n",
              "      <th>max</th>\n",
              "      <td>266.000000</td>\n",
              "      <td>2020.000000</td>\n",
              "      <td>100.000000</td>\n",
              "    </tr>\n",
              "  </tbody>\n",
              "</table>\n",
              "</div>"
            ],
            "text/plain": [
              "            runtime          year  tomatometer_rating\n",
              "count  16539.000000  16539.000000        16539.000000\n",
              "mean     102.658321   1999.574339           60.518265\n",
              "std       18.623461     19.602235           28.349617\n",
              "min        8.000000   1914.000000            0.000000\n",
              "25%       91.000000   1993.000000           38.000000\n",
              "50%      100.000000   2006.000000           66.000000\n",
              "75%      111.000000   2013.000000           85.000000\n",
              "max      266.000000   2020.000000          100.000000"
            ]
          },
          "metadata": {},
          "execution_count": 26
        }
      ]
    },
    {
      "cell_type": "markdown",
      "metadata": {
        "id": "orqzYI9zRAnt"
      },
      "source": [
        "# Visualizations of Features & Label"
      ]
    },
    {
      "cell_type": "markdown",
      "metadata": {
        "id": "89Ss5Ji6O41k"
      },
      "source": [
        "#### Distribution of  Numeric Features"
      ]
    },
    {
      "cell_type": "code",
      "metadata": {
        "colab": {
          "base_uri": "https://localhost:8080/",
          "height": 725
        },
        "id": "d6M9sveRRJbl",
        "outputId": "dd43e7e9-28c1-471a-f68d-4073534a16db"
      },
      "source": [
        "# distribution of numeric features\n",
        "\n",
        "# list to store column names\n",
        "numeric = ['runtime', 'year', 'tomatometer_rating']\n",
        "# list to store colors\n",
        "colors = ['salmon', 'gold', 'palegreen' ]\n",
        "\n",
        "# counter to plot graph\n",
        "n = 1\n",
        "\n",
        "fig = plt.figure(figsize=(30, 10))\n",
        "\n",
        "\n",
        "for i in range(0,3):\n",
        "  ax = plt.subplot(2, 2, n)\n",
        "  sns.histplot(df_fl[numeric[i]], color = colors[i])\n",
        "  plt.axvline(df_fl[numeric[i]].mean(), color='black', linestyle='dashed', linewidth=2, label='Mean')\n",
        "\n",
        "  plt.legend()\n",
        "  plt.title(f\"Distribution of Movie's {numeric[i]}\", pad=12)\n",
        "  plt.subplots_adjust(top=1.3)\n",
        "\n",
        "  print(f\"Movie´s {numeric[i]} Skewness: {df_fl[numeric[i]].skew()}\")\n",
        "\n",
        "  n+=1\n",
        "\n",
        "plt.show()\n"
      ],
      "execution_count": 27,
      "outputs": [
        {
          "output_type": "stream",
          "name": "stdout",
          "text": [
            "Movie´s runtime Skewness: 1.3909329498508107\n",
            "Movie´s year Skewness: -1.566067499864697\n",
            "Movie´s tomatometer_rating Skewness: -0.43109097731821544\n"
          ]
        },
        {
          "output_type": "display_data",
          "data": {
            "image/png": "[encoded data removed]",
            "text/plain": [
              "<Figure size 2160x720 with 3 Axes>"
            ]
          },
          "metadata": {
            "needs_background": "light"
          }
        }
      ]
    },
    {
      "cell_type": "markdown",
      "metadata": {
        "id": "rjIkoFLoPAud"
      },
      "source": [
        "#### Countplot of main_genre"
      ]
    },
    {
      "cell_type": "code",
      "metadata": {
        "colab": {
          "base_uri": "https://localhost:8080/",
          "height": 385
        },
        "id": "dEOBvhkoPERc",
        "outputId": "346bad55-09a2-485a-dc9d-06da8995c23f"
      },
      "source": [
        "# countplot of movie's main genre\n",
        "\n",
        "f, ax = plt.subplots(figsize=(30, 6))\n",
        "\n",
        "sns.countplot(x=df_fl.main_genre)\n",
        "plt.xticks(fontsize=13)\n",
        "plt.xticks(rotation=45)\n",
        "\n",
        "plt.title('Number of Movies by Main Genre', pad=12, fontsize=15)\n",
        "\n",
        "plt.show()\n"
      ],
      "execution_count": 28,
      "outputs": [
        {
          "output_type": "display_data",
          "data": {
            "image/png": "[encoded data removed]",
            "text/plain": [
              "<Figure size 2160x432 with 1 Axes>"
            ]
          },
          "metadata": {
            "needs_background": "light"
          }
        }
      ]
    },
    {
      "cell_type": "markdown",
      "metadata": {
        "id": "ey9A-YVKUucd"
      },
      "source": [
        "##### My favorite movie genres are 'Action & Adventure', 'Animation' and 'Mystery & Suspense'"
      ]
    },
    {
      "cell_type": "code",
      "metadata": {
        "colab": {
          "base_uri": "https://localhost:8080/",
          "height": 316
        },
        "id": "xxRN7gASUSoa",
        "outputId": "cb94cf2d-0533-4390-fe8b-c488ea794751"
      },
      "source": [
        "# Category Encoding of main_genre column\n",
        "  # 'Action & Adventure' >> [1, 0]\n",
        "  # 'Animation' >> [1, 0]\n",
        "  # 'Mystery & Suspense' >> [1, 0]\n",
        "  # 'Other' >> [1,0]\n",
        "\n",
        "df_fl['is_action_adv'] = [1 if  df_fl.loc[index, 'main_genre'] == 'Action & Adventure' else 0 for index in df_fl.index]\n",
        "df_fl['is_animation'] = [1 if df_fl.loc[index, 'main_genre'] == 'Animation' else 0 for index in df_fl.index]\n",
        "df_fl['is_mystery_susp'] = [1 if df_fl.loc[index, 'main_genre'] == 'Mystery & Suspense' else 0 for index in df_fl.index]\n",
        "df_fl['is_other'] = [1 if df_fl.loc[index, 'main_genre'] != 'Action & Adventure' and df_fl.loc[index, 'main_genre'] != 'Animation' \\\n",
        "                     and df_fl.loc[index, 'main_genre'] != 'Mystery & Suspense' else 0 for index in df_fl.index]\n",
        "\n",
        "\n",
        "df_fl.head()"
      ],
      "execution_count": 29,
      "outputs": [
        {
          "output_type": "stream",
          "name": "stderr",
          "text": [
            "/usr/local/lib/python3.7/dist-packages/ipykernel_launcher.py:7: SettingWithCopyWarning: \n",
            "A value is trying to be set on a copy of a slice from a DataFrame.\n",
            "Try using .loc[row_indexer,col_indexer] = value instead\n",
            "\n",
            "See the caveats in the documentation: https://pandas.pydata.org/pandas-docs/stable/user_guide/indexing.html#returning-a-view-versus-a-copy\n",
            "  import sys\n"
          ]
        },
        {
          "output_type": "execute_result",
          "data": {
            "text/html": [
              "<div>\n",
              "<style scoped>\n",
              "    .dataframe tbody tr th:only-of-type {\n",
              "        vertical-align: middle;\n",
              "    }\n",
              "\n",
              "    .dataframe tbody tr th {\n",
              "        vertical-align: top;\n",
              "    }\n",
              "\n",
              "    .dataframe thead th {\n",
              "        text-align: right;\n",
              "    }\n",
              "</style>\n",
              "<table border=\"1\" class=\"dataframe\">\n",
              "  <thead>\n",
              "    <tr style=\"text-align: right;\">\n",
              "      <th></th>\n",
              "      <th>movie_title</th>\n",
              "      <th>main_genre</th>\n",
              "      <th>runtime</th>\n",
              "      <th>year</th>\n",
              "      <th>tomatometer_rating</th>\n",
              "      <th>is_action_adv</th>\n",
              "      <th>is_animation</th>\n",
              "      <th>is_mystery_susp</th>\n",
              "      <th>is_other</th>\n",
              "    </tr>\n",
              "  </thead>\n",
              "  <tbody>\n",
              "    <tr>\n",
              "      <th>0</th>\n",
              "      <td>Percy Jackson &amp; the O...</td>\n",
              "      <td>Action &amp; Adventure</td>\n",
              "      <td>119.0</td>\n",
              "      <td>2010</td>\n",
              "      <td>49.0</td>\n",
              "      <td>1</td>\n",
              "      <td>0</td>\n",
              "      <td>0</td>\n",
              "      <td>0</td>\n",
              "    </tr>\n",
              "    <tr>\n",
              "      <th>1</th>\n",
              "      <td>Please Give</td>\n",
              "      <td>Comedy</td>\n",
              "      <td>90.0</td>\n",
              "      <td>2010</td>\n",
              "      <td>87.0</td>\n",
              "      <td>0</td>\n",
              "      <td>0</td>\n",
              "      <td>0</td>\n",
              "      <td>1</td>\n",
              "    </tr>\n",
              "    <tr>\n",
              "      <th>2</th>\n",
              "      <td>10</td>\n",
              "      <td>Comedy</td>\n",
              "      <td>122.0</td>\n",
              "      <td>1979</td>\n",
              "      <td>67.0</td>\n",
              "      <td>0</td>\n",
              "      <td>0</td>\n",
              "      <td>0</td>\n",
              "      <td>1</td>\n",
              "    </tr>\n",
              "    <tr>\n",
              "      <th>3</th>\n",
              "      <td>12 Angry Men (Twelve ...</td>\n",
              "      <td>Classics</td>\n",
              "      <td>95.0</td>\n",
              "      <td>1957</td>\n",
              "      <td>100.0</td>\n",
              "      <td>0</td>\n",
              "      <td>0</td>\n",
              "      <td>0</td>\n",
              "      <td>1</td>\n",
              "    </tr>\n",
              "    <tr>\n",
              "      <th>4</th>\n",
              "      <td>20,000 Leagues Under ...</td>\n",
              "      <td>Action &amp; Adventure</td>\n",
              "      <td>127.0</td>\n",
              "      <td>1954</td>\n",
              "      <td>89.0</td>\n",
              "      <td>1</td>\n",
              "      <td>0</td>\n",
              "      <td>0</td>\n",
              "      <td>0</td>\n",
              "    </tr>\n",
              "  </tbody>\n",
              "</table>\n",
              "</div>"
            ],
            "text/plain": [
              "                movie_title          main_genre  ...  is_mystery_susp  is_other\n",
              "0  Percy Jackson & the O...  Action & Adventure  ...                0         0\n",
              "1               Please Give              Comedy  ...                0         1\n",
              "2                        10              Comedy  ...                0         1\n",
              "3  12 Angry Men (Twelve ...            Classics  ...                0         1\n",
              "4  20,000 Leagues Under ...  Action & Adventure  ...                0         0\n",
              "\n",
              "[5 rows x 9 columns]"
            ]
          },
          "metadata": {},
          "execution_count": 29
        }
      ]
    },
    {
      "cell_type": "markdown",
      "metadata": {
        "id": "pEjJqLAlYtuy"
      },
      "source": [
        "##### I only like to see Good Movies. A movie will be worth watching if its tomatometer_rating >= 70"
      ]
    },
    {
      "cell_type": "code",
      "metadata": {
        "colab": {
          "base_uri": "https://localhost:8080/",
          "height": 206
        },
        "id": "E_9H_ShnZE7T",
        "outputId": "31a77a2e-907c-4a55-e64f-d0a4b1c3f6c5"
      },
      "source": [
        "# a movie will be worth watching if its tomatometer score >= 70\n",
        "df_fl['worth_watching'] = [1 if df_fl.loc[index, 'tomatometer_rating'] >= 70 else 0 for index in df_fl.index]\n",
        "\n",
        "df_fl.head()"
      ],
      "execution_count": 30,
      "outputs": [
        {
          "output_type": "execute_result",
          "data": {
            "text/html": [
              "<div>\n",
              "<style scoped>\n",
              "    .dataframe tbody tr th:only-of-type {\n",
              "        vertical-align: middle;\n",
              "    }\n",
              "\n",
              "    .dataframe tbody tr th {\n",
              "        vertical-align: top;\n",
              "    }\n",
              "\n",
              "    .dataframe thead th {\n",
              "        text-align: right;\n",
              "    }\n",
              "</style>\n",
              "<table border=\"1\" class=\"dataframe\">\n",
              "  <thead>\n",
              "    <tr style=\"text-align: right;\">\n",
              "      <th></th>\n",
              "      <th>movie_title</th>\n",
              "      <th>main_genre</th>\n",
              "      <th>runtime</th>\n",
              "      <th>year</th>\n",
              "      <th>tomatometer_rating</th>\n",
              "      <th>is_action_adv</th>\n",
              "      <th>is_animation</th>\n",
              "      <th>is_mystery_susp</th>\n",
              "      <th>is_other</th>\n",
              "      <th>worth_watching</th>\n",
              "    </tr>\n",
              "  </thead>\n",
              "  <tbody>\n",
              "    <tr>\n",
              "      <th>0</th>\n",
              "      <td>Percy Jackson &amp; the O...</td>\n",
              "      <td>Action &amp; Adventure</td>\n",
              "      <td>119.0</td>\n",
              "      <td>2010</td>\n",
              "      <td>49.0</td>\n",
              "      <td>1</td>\n",
              "      <td>0</td>\n",
              "      <td>0</td>\n",
              "      <td>0</td>\n",
              "      <td>0</td>\n",
              "    </tr>\n",
              "    <tr>\n",
              "      <th>1</th>\n",
              "      <td>Please Give</td>\n",
              "      <td>Comedy</td>\n",
              "      <td>90.0</td>\n",
              "      <td>2010</td>\n",
              "      <td>87.0</td>\n",
              "      <td>0</td>\n",
              "      <td>0</td>\n",
              "      <td>0</td>\n",
              "      <td>1</td>\n",
              "      <td>1</td>\n",
              "    </tr>\n",
              "    <tr>\n",
              "      <th>2</th>\n",
              "      <td>10</td>\n",
              "      <td>Comedy</td>\n",
              "      <td>122.0</td>\n",
              "      <td>1979</td>\n",
              "      <td>67.0</td>\n",
              "      <td>0</td>\n",
              "      <td>0</td>\n",
              "      <td>0</td>\n",
              "      <td>1</td>\n",
              "      <td>0</td>\n",
              "    </tr>\n",
              "    <tr>\n",
              "      <th>3</th>\n",
              "      <td>12 Angry Men (Twelve ...</td>\n",
              "      <td>Classics</td>\n",
              "      <td>95.0</td>\n",
              "      <td>1957</td>\n",
              "      <td>100.0</td>\n",
              "      <td>0</td>\n",
              "      <td>0</td>\n",
              "      <td>0</td>\n",
              "      <td>1</td>\n",
              "      <td>1</td>\n",
              "    </tr>\n",
              "    <tr>\n",
              "      <th>4</th>\n",
              "      <td>20,000 Leagues Under ...</td>\n",
              "      <td>Action &amp; Adventure</td>\n",
              "      <td>127.0</td>\n",
              "      <td>1954</td>\n",
              "      <td>89.0</td>\n",
              "      <td>1</td>\n",
              "      <td>0</td>\n",
              "      <td>0</td>\n",
              "      <td>0</td>\n",
              "      <td>1</td>\n",
              "    </tr>\n",
              "  </tbody>\n",
              "</table>\n",
              "</div>"
            ],
            "text/plain": [
              "                movie_title          main_genre  ...  is_other  worth_watching\n",
              "0  Percy Jackson & the O...  Action & Adventure  ...         0               0\n",
              "1               Please Give              Comedy  ...         1               1\n",
              "2                        10              Comedy  ...         1               0\n",
              "3  12 Angry Men (Twelve ...            Classics  ...         1               1\n",
              "4  20,000 Leagues Under ...  Action & Adventure  ...         0               1\n",
              "\n",
              "[5 rows x 10 columns]"
            ]
          },
          "metadata": {},
          "execution_count": 30
        }
      ]
    },
    {
      "cell_type": "markdown",
      "metadata": {
        "id": "bh8ttNKTTSUy"
      },
      "source": [
        "#### Features Dataframe"
      ]
    },
    {
      "cell_type": "code",
      "metadata": {
        "colab": {
          "base_uri": "https://localhost:8080/",
          "height": 225
        },
        "id": "ZZgb3RoBTVY7",
        "outputId": "4f3ce2bd-9781-455a-a3ff-c25eccb29754"
      },
      "source": [
        "# features dataframe\n",
        "df_features = df_fl[['movie_title', 'runtime', 'year', 'is_action_adv', 'is_animation', 'is_mystery_susp', 'is_other']]\n",
        "\n",
        "print(df_features.shape)\n",
        "df_features.head()"
      ],
      "execution_count": 31,
      "outputs": [
        {
          "output_type": "stream",
          "name": "stdout",
          "text": [
            "(16539, 7)\n"
          ]
        },
        {
          "output_type": "execute_result",
          "data": {
            "text/html": [
              "<div>\n",
              "<style scoped>\n",
              "    .dataframe tbody tr th:only-of-type {\n",
              "        vertical-align: middle;\n",
              "    }\n",
              "\n",
              "    .dataframe tbody tr th {\n",
              "        vertical-align: top;\n",
              "    }\n",
              "\n",
              "    .dataframe thead th {\n",
              "        text-align: right;\n",
              "    }\n",
              "</style>\n",
              "<table border=\"1\" class=\"dataframe\">\n",
              "  <thead>\n",
              "    <tr style=\"text-align: right;\">\n",
              "      <th></th>\n",
              "      <th>movie_title</th>\n",
              "      <th>runtime</th>\n",
              "      <th>year</th>\n",
              "      <th>is_action_adv</th>\n",
              "      <th>is_animation</th>\n",
              "      <th>is_mystery_susp</th>\n",
              "      <th>is_other</th>\n",
              "    </tr>\n",
              "  </thead>\n",
              "  <tbody>\n",
              "    <tr>\n",
              "      <th>0</th>\n",
              "      <td>Percy Jackson &amp; the O...</td>\n",
              "      <td>119.0</td>\n",
              "      <td>2010</td>\n",
              "      <td>1</td>\n",
              "      <td>0</td>\n",
              "      <td>0</td>\n",
              "      <td>0</td>\n",
              "    </tr>\n",
              "    <tr>\n",
              "      <th>1</th>\n",
              "      <td>Please Give</td>\n",
              "      <td>90.0</td>\n",
              "      <td>2010</td>\n",
              "      <td>0</td>\n",
              "      <td>0</td>\n",
              "      <td>0</td>\n",
              "      <td>1</td>\n",
              "    </tr>\n",
              "    <tr>\n",
              "      <th>2</th>\n",
              "      <td>10</td>\n",
              "      <td>122.0</td>\n",
              "      <td>1979</td>\n",
              "      <td>0</td>\n",
              "      <td>0</td>\n",
              "      <td>0</td>\n",
              "      <td>1</td>\n",
              "    </tr>\n",
              "    <tr>\n",
              "      <th>3</th>\n",
              "      <td>12 Angry Men (Twelve ...</td>\n",
              "      <td>95.0</td>\n",
              "      <td>1957</td>\n",
              "      <td>0</td>\n",
              "      <td>0</td>\n",
              "      <td>0</td>\n",
              "      <td>1</td>\n",
              "    </tr>\n",
              "    <tr>\n",
              "      <th>4</th>\n",
              "      <td>20,000 Leagues Under ...</td>\n",
              "      <td>127.0</td>\n",
              "      <td>1954</td>\n",
              "      <td>1</td>\n",
              "      <td>0</td>\n",
              "      <td>0</td>\n",
              "      <td>0</td>\n",
              "    </tr>\n",
              "  </tbody>\n",
              "</table>\n",
              "</div>"
            ],
            "text/plain": [
              "                movie_title  runtime  ...  is_mystery_susp  is_other\n",
              "0  Percy Jackson & the O...    119.0  ...                0         0\n",
              "1               Please Give     90.0  ...                0         1\n",
              "2                        10    122.0  ...                0         1\n",
              "3  12 Angry Men (Twelve ...     95.0  ...                0         1\n",
              "4  20,000 Leagues Under ...    127.0  ...                0         0\n",
              "\n",
              "[5 rows x 7 columns]"
            ]
          },
          "metadata": {},
          "execution_count": 31
        }
      ]
    },
    {
      "cell_type": "markdown",
      "metadata": {
        "id": "XPTJzh8yTs1B"
      },
      "source": [
        "#### Labels Dataframe"
      ]
    },
    {
      "cell_type": "code",
      "metadata": {
        "colab": {
          "base_uri": "https://localhost:8080/",
          "height": 225
        },
        "id": "hri7M9yRTwrs",
        "outputId": "dc79a088-e02e-4ab8-a381-85fe970a802f"
      },
      "source": [
        "# labels dataframe\n",
        "df_labels = df_fl[['movie_title', 'worth_watching']]\n",
        "\n",
        "print(df_labels.shape)\n",
        "df_labels.head()"
      ],
      "execution_count": 32,
      "outputs": [
        {
          "output_type": "stream",
          "name": "stdout",
          "text": [
            "(16539, 2)\n"
          ]
        },
        {
          "output_type": "execute_result",
          "data": {
            "text/html": [
              "<div>\n",
              "<style scoped>\n",
              "    .dataframe tbody tr th:only-of-type {\n",
              "        vertical-align: middle;\n",
              "    }\n",
              "\n",
              "    .dataframe tbody tr th {\n",
              "        vertical-align: top;\n",
              "    }\n",
              "\n",
              "    .dataframe thead th {\n",
              "        text-align: right;\n",
              "    }\n",
              "</style>\n",
              "<table border=\"1\" class=\"dataframe\">\n",
              "  <thead>\n",
              "    <tr style=\"text-align: right;\">\n",
              "      <th></th>\n",
              "      <th>movie_title</th>\n",
              "      <th>worth_watching</th>\n",
              "    </tr>\n",
              "  </thead>\n",
              "  <tbody>\n",
              "    <tr>\n",
              "      <th>0</th>\n",
              "      <td>Percy Jackson &amp; the O...</td>\n",
              "      <td>0</td>\n",
              "    </tr>\n",
              "    <tr>\n",
              "      <th>1</th>\n",
              "      <td>Please Give</td>\n",
              "      <td>1</td>\n",
              "    </tr>\n",
              "    <tr>\n",
              "      <th>2</th>\n",
              "      <td>10</td>\n",
              "      <td>0</td>\n",
              "    </tr>\n",
              "    <tr>\n",
              "      <th>3</th>\n",
              "      <td>12 Angry Men (Twelve ...</td>\n",
              "      <td>1</td>\n",
              "    </tr>\n",
              "    <tr>\n",
              "      <th>4</th>\n",
              "      <td>20,000 Leagues Under ...</td>\n",
              "      <td>1</td>\n",
              "    </tr>\n",
              "  </tbody>\n",
              "</table>\n",
              "</div>"
            ],
            "text/plain": [
              "                movie_title  worth_watching\n",
              "0  Percy Jackson & the O...               0\n",
              "1               Please Give               1\n",
              "2                        10               0\n",
              "3  12 Angry Men (Twelve ...               1\n",
              "4  20,000 Leagues Under ...               1"
            ]
          },
          "metadata": {},
          "execution_count": 32
        }
      ]
    },
    {
      "cell_type": "markdown",
      "metadata": {
        "id": "sY58bKR2USdq"
      },
      "source": [
        "# K Nearest Neighbor\n",
        "\n",
        "> Indented block\n",
        "\n",
        "\n",
        "\n",
        "- GOAL >> Classify a movie as either worth watching or not.\n",
        "- When a new movie is passed to the algorithm, it will classify the movie as worth watching & it will provide 5 similar movies with their distances to the movie passsed as input \n",
        "- The algorithm uses Euclidean Distance to determine the distance between the movies features\n",
        "\n",
        "  - distance is like calculating the hypotenuse of a triangle\n",
        "  - d = srt(a^2 + b^2)\n",
        "  - where a & b are features \n",
        "  - if a is runtime = movie1_runtime  - movie2_runtime - .... movieN)\n",
        "         d = srt((m1_length[0] - m2_length[0] ... - mN_length[0])^2 \n",
        "                    + (m1_year[0] - m2_year[1] .... - mN_year[0])^2\n",
        "                    + .... )\n",
        "\n"
      ]
    },
    {
      "cell_type": "code",
      "metadata": {
        "id": "t-f_C72h9ikc"
      },
      "source": [
        "# save feautes & lables without movie names\n",
        "features = df_features.iloc[:, 1:]\n",
        "labels = df_labels.iloc[:, 1:]"
      ],
      "execution_count": 38,
      "outputs": []
    },
    {
      "cell_type": "markdown",
      "metadata": {
        "id": "Jffj8BvU8XyO"
      },
      "source": [
        "#### Split Data into Train & Test"
      ]
    },
    {
      "cell_type": "code",
      "metadata": {
        "colab": {
          "base_uri": "https://localhost:8080/"
        },
        "id": "XV2fy51P8kF9",
        "outputId": "4e3c2474-9b68-4b23-da84-116f18d980da"
      },
      "source": [
        "from sklearn.model_selection import train_test_split\n",
        "\n",
        "features_train, features_test, labels_train, labels_test = train_test_split(features, labels, test_size=0.2)\n",
        "\n",
        "print(f'features_train length: {len(features_train)}')\n",
        "print(f'labels_train length: {len(labels_train)}')\n",
        "features_train.shape"
      ],
      "execution_count": 117,
      "outputs": [
        {
          "output_type": "stream",
          "name": "stdout",
          "text": [
            "features_train length: 13231\n",
            "labels_train length: 13231\n"
          ]
        },
        {
          "output_type": "execute_result",
          "data": {
            "text/plain": [
              "(13231, 6)"
            ]
          },
          "metadata": {},
          "execution_count": 117
        }
      ]
    },
    {
      "cell_type": "markdown",
      "metadata": {
        "id": "-ptWK0zYBzO-"
      },
      "source": [
        "####  Z-Score Normalization \n",
        "\n",
        "- it allows to handle outliers in the runtime and year feature\n",
        "- Z-score = x - mean / std Dev\n",
        "  - if the value is below the name it will be a negative number\n",
        "  - if the value is above the mean it will be a positive number\n",
        "  - the size of the negative and positive numbers is determined by the standard deviation of the original feature\n"
      ]
    },
    {
      "cell_type": "code",
      "metadata": {
        "id": "Py64FcEbDZrk"
      },
      "source": [
        "from sklearn.preprocessing import StandardScaler\n",
        "\n",
        "# initialize scaler\n",
        "scaler = StandardScaler()\n",
        "\n",
        "# features useed to train model\n",
        "features_train = scaler.fit_transform(features_train)\n",
        "\n",
        "# features used ti test the model\n",
        "features_test = scaler.fit_transform(features_test)"
      ],
      "execution_count": 45,
      "outputs": []
    },
    {
      "cell_type": "markdown",
      "metadata": {
        "id": "svB60c51Fo7q"
      },
      "source": [
        "#### Model Creation"
      ]
    },
    {
      "cell_type": "code",
      "metadata": {
        "id": "tfeK00o_FoWC"
      },
      "source": [
        "from sklearn.neighbors import KNeighborsClassifier\n",
        "\n",
        "accuracies = []\n",
        "k = 0\n",
        "best_score = 0\n",
        "\n",
        "# finde best k and accuracy\n",
        "for i in range(1, 10):\n",
        "  # create model\n",
        "  classifier = KNeighborsClassifier(n_neighbors=i, p=2)\n",
        "  # Train model\n",
        "  classifier.fit(features_train, labels_train)\n",
        "  \n",
        "  # accuracy \n",
        "  score = classifier.score(features_test, labels_test)\n",
        "  # append score to accuracies list\n",
        "  accuracies.append(score)\n",
        "\n",
        "  if score > best_score:\n",
        "    k = i\n",
        "    best_score = score\n"
      ],
      "execution_count": null,
      "outputs": []
    },
    {
      "cell_type": "code",
      "metadata": {
        "colab": {
          "base_uri": "https://localhost:8080/"
        },
        "id": "dCWlKosbO_V4",
        "outputId": "924c0f27-704f-4c4e-a0eb-fa52f1018ba1"
      },
      "source": [
        "# k Neighbors\n",
        "print(f'K Nearest Neighbors: {k}')\n",
        "\n",
        "\n",
        "# accuracy of model\n",
        "train_score = classifier.score(features_train, labels_train)\n",
        "test_score = classifier.score(features_test, labels_test)\n",
        "\n",
        "print(f'Train Accuracy: {train_score}')\n",
        "print(f'Test Accuracy: {test_score}')\n"
      ],
      "execution_count": 97,
      "outputs": [
        {
          "output_type": "stream",
          "name": "stdout",
          "text": [
            "K Nearest Neighbors: 9\n",
            "Train Accuracy: 0.6919356057743179\n",
            "Test Accuracy: 0.6257557436517533\n"
          ]
        }
      ]
    },
    {
      "cell_type": "code",
      "metadata": {
        "colab": {
          "base_uri": "https://localhost:8080/",
          "height": 410
        },
        "id": "xjsmcTPbQK0w",
        "outputId": "728adee7-fa49-44b4-989f-a61c017971a7"
      },
      "source": [
        "# plot k & accuracies\n",
        "\n",
        "f,ax = plt.subplots(figsize=(12, 6))\n",
        "\n",
        "ks = list(range(1,10))\n",
        "sns.lineplot(x=ks, y=accuracies)\n",
        "plt.axvline(k, color='purple', linestyle='dashed')\n",
        "plt.axhline(best_score, color='purple', linestyle='dashed')\n",
        "\n",
        "plt.xlabel('K Nearest Neighbor')\n",
        "plt.ylabel('Accuracy')\n",
        "plt.title('Movie Classifier Accuracy as K Changes', pad=12)\n",
        "\n",
        "plt.show()"
      ],
      "execution_count": 108,
      "outputs": [
        {
          "output_type": "display_data",
          "data": {
            "image/png": "[encoded data removed]",
            "text/plain": [
              "<Figure size 864x432 with 1 Axes>"
            ]
          },
          "metadata": {
            "needs_background": "light"
          }
        }
      ]
    },
    {
      "cell_type": "code",
      "metadata": {
        "colab": {
          "base_uri": "https://localhost:8080/"
        },
        "id": "3tJsu-n6TsB8",
        "outputId": "fc697baf-e25f-4652-f9cb-34fd324df5de"
      },
      "source": [
        "# Movie >> No Time To Die\n",
        "# runtime: 163 minute >> mean of the dataset is 102\n",
        "# year: 2020 >> mean of the dataset is 1999\n",
        "# is_action_adv = 1\n",
        "\n",
        "movie1 = np.array([3.38, 1.10, 1, 0, 0, 0])\n",
        "# reshape to 1 row n column\n",
        "movie1 = movie1.reshape(1, -1)\n",
        "\n",
        "# predict if I will like the movie\n",
        "guess1 = classifier.predict(movie1)[0]\n",
        "\n",
        "if guess1 == 1:\n",
        "  result = 'YES!!'\n",
        "else:\n",
        "  result = 'NO :)'\n",
        "\n",
        "print(f'Would I like No Time to Die: {result}')"
      ],
      "execution_count": 132,
      "outputs": [
        {
          "output_type": "stream",
          "name": "stdout",
          "text": [
            "Would I like No Time to Die: YES!!\n"
          ]
        }
      ]
    },
    {
      "cell_type": "code",
      "metadata": {
        "colab": {
          "base_uri": "https://localhost:8080/"
        },
        "id": "U_Tc7xQDd3Lg",
        "outputId": "c7764664-9e2a-4d5d-ed2b-cda218c2fde6"
      },
      "source": [
        "# get the distance of the neighbors\n",
        "distances = classifier.kneighbors(movie1)[0][0]\n",
        "print(distances)"
      ],
      "execution_count": 173,
      "outputs": [
        {
          "output_type": "stream",
          "name": "stdout",
          "text": [
            "[1.63522822 1.65307501 1.65307501 1.66228106 1.67448568 1.6870499\n",
            " 1.69701017 1.69972387 1.70997158]\n"
          ]
        }
      ]
    },
    {
      "cell_type": "code",
      "metadata": {
        "colab": {
          "base_uri": "https://localhost:8080/"
        },
        "id": "aF7edefScIO1",
        "outputId": "01264d71-e4a3-4fe1-d0a0-1a554501a162"
      },
      "source": [
        "# get indices of neighbors\n",
        "indices = classifier.kneighbors(movie1, return_distance=False)[0]\n",
        "print(indices)"
      ],
      "execution_count": 172,
      "outputs": [
        {
          "output_type": "stream",
          "name": "stdout",
          "text": [
            "[ 5574  9579  9143  5696 10639  1472  9382  4059  4373]\n"
          ]
        }
      ]
    },
    {
      "cell_type": "code",
      "metadata": {
        "colab": {
          "base_uri": "https://localhost:8080/"
        },
        "id": "uHwhTX-EdbNl",
        "outputId": "c7b3c7c6-99c4-432e-b1a8-9743360d262b"
      },
      "source": [
        "# get information of an specific neighbor\n",
        "df_fl.loc[5574]"
      ],
      "execution_count": 170,
      "outputs": [
        {
          "output_type": "execute_result",
          "data": {
            "text/plain": [
              "movie_title           Divorce American Style\n",
              "main_genre                          Classics\n",
              "runtime                                  109\n",
              "year                                    1967\n",
              "tomatometer_rating                       100\n",
              "is_action_adv                              0\n",
              "is_animation                               0\n",
              "is_mystery_susp                            0\n",
              "is_other                                   1\n",
              "worth_watching                             1\n",
              "Name: 5574, dtype: object"
            ]
          },
          "metadata": {},
          "execution_count": 170
        }
      ]
    }
  ]
}