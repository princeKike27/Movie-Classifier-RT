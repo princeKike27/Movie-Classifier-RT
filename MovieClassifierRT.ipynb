{
  "nbformat": 4,
  "nbformat_minor": 0,
  "metadata": {
    "colab": {
      "name": "MovieClassifierRT.ipynb",
      "provenance": [],
      "collapsed_sections": [],
      "authorship_tag": "ABX9TyP+pU43jQLaTLgw0ymQfhFo",
      "include_colab_link": true
    },
    "kernelspec": {
      "name": "python3",
      "display_name": "Python 3"
    },
    "language_info": {
      "name": "python"
    }
  },
  "cells": [
    {
      "cell_type": "markdown",
      "metadata": {
        "id": "view-in-github",
        "colab_type": "text"
      },
      "source": [
        "<a href=\"https://colab.research.google.com/github/princeKike27/Movie-Classifier-RT/blob/main/MovieClassifierRT.ipynb\" target=\"_parent\"><img src=\"https://colab.research.google.com/assets/colab-badge.svg\" alt=\"Open In Colab\"/></a>"
      ]
    },
    {
      "cell_type": "markdown",
      "metadata": {
        "id": "jf0C5Zpqo8zL"
      },
      "source": [
        "# Movie Classifier\n",
        "\n",
        "For this project ....\n"
      ]
    },
    {
      "cell_type": "code",
      "metadata": {
        "id": "22GufpfGo2JO"
      },
      "source": [
        "# import modules\n",
        "\n",
        "import pandas as pd\n",
        "import numpy as np\n",
        "import matplotlib.pyplot as plt\n",
        "import seaborn as sns "
      ],
      "execution_count": 139,
      "outputs": []
    },
    {
      "cell_type": "code",
      "metadata": {
        "colab": {
          "base_uri": "https://localhost:8080/",
          "height": 400
        },
        "id": "0zSdglFhpsgo",
        "outputId": "31b71870-ede7-4180-9448-76728110c75b"
      },
      "source": [
        "# load dataset\n",
        "df = pd.read_csv('https://raw.githubusercontent.com/princeKike27/Movie-Classifier-RT/main/rotten_tomatoes_movies.csv')\n",
        "\n",
        "# set mas column width to be able to display better the df\n",
        "pd.options.display.max_colwidth = 25\n",
        "\n",
        "df.head()"
      ],
      "execution_count": 140,
      "outputs": [
        {
          "output_type": "execute_result",
          "data": {
            "text/html": [
              "<div>\n",
              "<style scoped>\n",
              "    .dataframe tbody tr th:only-of-type {\n",
              "        vertical-align: middle;\n",
              "    }\n",
              "\n",
              "    .dataframe tbody tr th {\n",
              "        vertical-align: top;\n",
              "    }\n",
              "\n",
              "    .dataframe thead th {\n",
              "        text-align: right;\n",
              "    }\n",
              "</style>\n",
              "<table border=\"1\" class=\"dataframe\">\n",
              "  <thead>\n",
              "    <tr style=\"text-align: right;\">\n",
              "      <th></th>\n",
              "      <th>rotten_tomatoes_link</th>\n",
              "      <th>movie_title</th>\n",
              "      <th>movie_info</th>\n",
              "      <th>critics_consensus</th>\n",
              "      <th>content_rating</th>\n",
              "      <th>genres</th>\n",
              "      <th>directors</th>\n",
              "      <th>authors</th>\n",
              "      <th>actors</th>\n",
              "      <th>original_release_date</th>\n",
              "      <th>streaming_release_date</th>\n",
              "      <th>runtime</th>\n",
              "      <th>production_company</th>\n",
              "      <th>tomatometer_status</th>\n",
              "      <th>tomatometer_rating</th>\n",
              "      <th>tomatometer_count</th>\n",
              "      <th>audience_status</th>\n",
              "      <th>audience_rating</th>\n",
              "      <th>audience_count</th>\n",
              "      <th>tomatometer_top_critics_count</th>\n",
              "      <th>tomatometer_fresh_critics_count</th>\n",
              "      <th>tomatometer_rotten_critics_count</th>\n",
              "    </tr>\n",
              "  </thead>\n",
              "  <tbody>\n",
              "    <tr>\n",
              "      <th>0</th>\n",
              "      <td>m/0814255</td>\n",
              "      <td>Percy Jackson &amp; the O...</td>\n",
              "      <td>Always trouble-prone,...</td>\n",
              "      <td>Though it may seem li...</td>\n",
              "      <td>PG</td>\n",
              "      <td>Action &amp; Adventure, C...</td>\n",
              "      <td>Chris Columbus</td>\n",
              "      <td>Craig Titley, Chris C...</td>\n",
              "      <td>Logan Lerman, Brandon...</td>\n",
              "      <td>2010-02-12</td>\n",
              "      <td>2015-11-25</td>\n",
              "      <td>119.0</td>\n",
              "      <td>20th Century Fox</td>\n",
              "      <td>Rotten</td>\n",
              "      <td>49.0</td>\n",
              "      <td>149.0</td>\n",
              "      <td>Spilled</td>\n",
              "      <td>53.0</td>\n",
              "      <td>254421.0</td>\n",
              "      <td>43</td>\n",
              "      <td>73</td>\n",
              "      <td>76</td>\n",
              "    </tr>\n",
              "    <tr>\n",
              "      <th>1</th>\n",
              "      <td>m/0878835</td>\n",
              "      <td>Please Give</td>\n",
              "      <td>Kate (Catherine Keene...</td>\n",
              "      <td>Nicole Holofcener's n...</td>\n",
              "      <td>R</td>\n",
              "      <td>Comedy</td>\n",
              "      <td>Nicole Holofcener</td>\n",
              "      <td>Nicole Holofcener</td>\n",
              "      <td>Catherine Keener, Ama...</td>\n",
              "      <td>2010-04-30</td>\n",
              "      <td>2012-09-04</td>\n",
              "      <td>90.0</td>\n",
              "      <td>Sony Pictures Classics</td>\n",
              "      <td>Certified-Fresh</td>\n",
              "      <td>87.0</td>\n",
              "      <td>142.0</td>\n",
              "      <td>Upright</td>\n",
              "      <td>64.0</td>\n",
              "      <td>11574.0</td>\n",
              "      <td>44</td>\n",
              "      <td>123</td>\n",
              "      <td>19</td>\n",
              "    </tr>\n",
              "    <tr>\n",
              "      <th>2</th>\n",
              "      <td>m/10</td>\n",
              "      <td>10</td>\n",
              "      <td>A successful, middle-...</td>\n",
              "      <td>Blake Edwards' bawdy ...</td>\n",
              "      <td>R</td>\n",
              "      <td>Comedy, Romance</td>\n",
              "      <td>Blake Edwards</td>\n",
              "      <td>Blake Edwards</td>\n",
              "      <td>Dudley Moore, Bo Dere...</td>\n",
              "      <td>1979-10-05</td>\n",
              "      <td>2014-07-24</td>\n",
              "      <td>122.0</td>\n",
              "      <td>Waner Bros.</td>\n",
              "      <td>Fresh</td>\n",
              "      <td>67.0</td>\n",
              "      <td>24.0</td>\n",
              "      <td>Spilled</td>\n",
              "      <td>53.0</td>\n",
              "      <td>14684.0</td>\n",
              "      <td>2</td>\n",
              "      <td>16</td>\n",
              "      <td>8</td>\n",
              "    </tr>\n",
              "    <tr>\n",
              "      <th>3</th>\n",
              "      <td>m/1000013-12_angry_men</td>\n",
              "      <td>12 Angry Men (Twelve ...</td>\n",
              "      <td>Following the closing...</td>\n",
              "      <td>Sidney Lumet's featur...</td>\n",
              "      <td>NR</td>\n",
              "      <td>Classics, Drama</td>\n",
              "      <td>Sidney Lumet</td>\n",
              "      <td>Reginald Rose</td>\n",
              "      <td>Martin Balsam, John F...</td>\n",
              "      <td>1957-04-13</td>\n",
              "      <td>2017-01-13</td>\n",
              "      <td>95.0</td>\n",
              "      <td>Criterion Collection</td>\n",
              "      <td>Certified-Fresh</td>\n",
              "      <td>100.0</td>\n",
              "      <td>54.0</td>\n",
              "      <td>Upright</td>\n",
              "      <td>97.0</td>\n",
              "      <td>105386.0</td>\n",
              "      <td>6</td>\n",
              "      <td>54</td>\n",
              "      <td>0</td>\n",
              "    </tr>\n",
              "    <tr>\n",
              "      <th>4</th>\n",
              "      <td>m/1000079-20000_leagu...</td>\n",
              "      <td>20,000 Leagues Under ...</td>\n",
              "      <td>In 1866, Professor Pi...</td>\n",
              "      <td>One of Disney's fines...</td>\n",
              "      <td>G</td>\n",
              "      <td>Action &amp; Adventure, D...</td>\n",
              "      <td>Richard Fleischer</td>\n",
              "      <td>Earl Felton</td>\n",
              "      <td>James Mason, Kirk Dou...</td>\n",
              "      <td>1954-01-01</td>\n",
              "      <td>2016-06-10</td>\n",
              "      <td>127.0</td>\n",
              "      <td>Disney</td>\n",
              "      <td>Fresh</td>\n",
              "      <td>89.0</td>\n",
              "      <td>27.0</td>\n",
              "      <td>Upright</td>\n",
              "      <td>74.0</td>\n",
              "      <td>68918.0</td>\n",
              "      <td>5</td>\n",
              "      <td>24</td>\n",
              "      <td>3</td>\n",
              "    </tr>\n",
              "  </tbody>\n",
              "</table>\n",
              "</div>"
            ],
            "text/plain": [
              "       rotten_tomatoes_link               movie_title  \\\n",
              "0                 m/0814255  Percy Jackson & the O...   \n",
              "1                 m/0878835               Please Give   \n",
              "2                      m/10                        10   \n",
              "3    m/1000013-12_angry_men  12 Angry Men (Twelve ...   \n",
              "4  m/1000079-20000_leagu...  20,000 Leagues Under ...   \n",
              "\n",
              "                 movie_info         critics_consensus content_rating  \\\n",
              "0  Always trouble-prone,...  Though it may seem li...             PG   \n",
              "1  Kate (Catherine Keene...  Nicole Holofcener's n...              R   \n",
              "2  A successful, middle-...  Blake Edwards' bawdy ...              R   \n",
              "3  Following the closing...  Sidney Lumet's featur...             NR   \n",
              "4  In 1866, Professor Pi...  One of Disney's fines...              G   \n",
              "\n",
              "                     genres          directors                   authors  \\\n",
              "0  Action & Adventure, C...     Chris Columbus  Craig Titley, Chris C...   \n",
              "1                    Comedy  Nicole Holofcener         Nicole Holofcener   \n",
              "2           Comedy, Romance      Blake Edwards             Blake Edwards   \n",
              "3           Classics, Drama       Sidney Lumet             Reginald Rose   \n",
              "4  Action & Adventure, D...  Richard Fleischer               Earl Felton   \n",
              "\n",
              "                     actors original_release_date streaming_release_date  \\\n",
              "0  Logan Lerman, Brandon...            2010-02-12             2015-11-25   \n",
              "1  Catherine Keener, Ama...            2010-04-30             2012-09-04   \n",
              "2  Dudley Moore, Bo Dere...            1979-10-05             2014-07-24   \n",
              "3  Martin Balsam, John F...            1957-04-13             2017-01-13   \n",
              "4  James Mason, Kirk Dou...            1954-01-01             2016-06-10   \n",
              "\n",
              "   runtime      production_company tomatometer_status  tomatometer_rating  \\\n",
              "0    119.0        20th Century Fox             Rotten                49.0   \n",
              "1     90.0  Sony Pictures Classics    Certified-Fresh                87.0   \n",
              "2    122.0             Waner Bros.              Fresh                67.0   \n",
              "3     95.0    Criterion Collection    Certified-Fresh               100.0   \n",
              "4    127.0                  Disney              Fresh                89.0   \n",
              "\n",
              "   tomatometer_count audience_status  audience_rating  audience_count  \\\n",
              "0              149.0         Spilled             53.0        254421.0   \n",
              "1              142.0         Upright             64.0         11574.0   \n",
              "2               24.0         Spilled             53.0         14684.0   \n",
              "3               54.0         Upright             97.0        105386.0   \n",
              "4               27.0         Upright             74.0         68918.0   \n",
              "\n",
              "   tomatometer_top_critics_count  tomatometer_fresh_critics_count  \\\n",
              "0                        43                             73          \n",
              "1                        44                            123          \n",
              "2                         2                             16          \n",
              "3                         6                             54          \n",
              "4                         5                             24          \n",
              "\n",
              "   tomatometer_rotten_critics_count  \n",
              "0                        76          \n",
              "1                        19          \n",
              "2                         8          \n",
              "3                         0          \n",
              "4                         3          "
            ]
          },
          "metadata": {},
          "execution_count": 140
        }
      ]
    },
    {
      "cell_type": "code",
      "metadata": {
        "colab": {
          "base_uri": "https://localhost:8080/"
        },
        "id": "Vnoj-ogrrUoe",
        "outputId": "26ff9771-ff73-4639-a5e4-5b1f175e0716"
      },
      "source": [
        "# shape of df\n",
        "df.shape"
      ],
      "execution_count": 141,
      "outputs": [
        {
          "output_type": "execute_result",
          "data": {
            "text/plain": [
              "(17712, 22)"
            ]
          },
          "metadata": {},
          "execution_count": 141
        }
      ]
    },
    {
      "cell_type": "code",
      "metadata": {
        "colab": {
          "base_uri": "https://localhost:8080/"
        },
        "id": "FnMd2IByrYZk",
        "outputId": "8631d1fc-fd15-4ecb-d234-e15a39b57a91"
      },
      "source": [
        "# check column types\n",
        "df.dtypes"
      ],
      "execution_count": 142,
      "outputs": [
        {
          "output_type": "execute_result",
          "data": {
            "text/plain": [
              "rotten_tomatoes_link                 object\n",
              "movie_title                          object\n",
              "movie_info                           object\n",
              "critics_consensus                    object\n",
              "content_rating                       object\n",
              "genres                               object\n",
              "directors                            object\n",
              "authors                              object\n",
              "actors                               object\n",
              "original_release_date                object\n",
              "streaming_release_date               object\n",
              "runtime                             float64\n",
              "production_company                   object\n",
              "tomatometer_status                   object\n",
              "tomatometer_rating                  float64\n",
              "tomatometer_count                   float64\n",
              "audience_status                      object\n",
              "audience_rating                     float64\n",
              "audience_count                      float64\n",
              "tomatometer_top_critics_count         int64\n",
              "tomatometer_fresh_critics_count       int64\n",
              "tomatometer_rotten_critics_count      int64\n",
              "dtype: object"
            ]
          },
          "metadata": {},
          "execution_count": 142
        }
      ]
    },
    {
      "cell_type": "code",
      "metadata": {
        "colab": {
          "base_uri": "https://localhost:8080/",
          "height": 583
        },
        "id": "Gs8P_sHZriMY",
        "outputId": "65dfaa0b-364a-4364-92b0-5ccbd24b5d3c"
      },
      "source": [
        "# check for missing values\n",
        "\n",
        "import missingno as msg\n",
        "\n",
        "msg.matrix(df, figsize=(20, 6))"
      ],
      "execution_count": 143,
      "outputs": [
        {
          "output_type": "execute_result",
          "data": {
            "text/plain": [
              "<matplotlib.axes._subplots.AxesSubplot at 0x7fcfef7fdd10>"
            ]
          },
          "metadata": {},
          "execution_count": 143
        },
        {
          "output_type": "display_data",
          "data": {
            "image/png": "[encoded data removed]",
            "text/plain": [
              "<Figure size 1440x432 with 2 Axes>"
            ]
          },
          "metadata": {
            "needs_background": "light"
          }
        }
      ]
    },
    {
      "cell_type": "code",
      "metadata": {
        "colab": {
          "base_uri": "https://localhost:8080/"
        },
        "id": "L15r3gc9t5wv",
        "outputId": "511ccf85-2127-4fdc-d073-20d6a58d88bb"
      },
      "source": [
        "# number missing values per column\n",
        "\n",
        "cols = list(df.columns)\n",
        "\n",
        "for el in cols:\n",
        "  print(f'{el}: {df[el].isna().sum()}')"
      ],
      "execution_count": 144,
      "outputs": [
        {
          "output_type": "stream",
          "name": "stdout",
          "text": [
            "rotten_tomatoes_link: 0\n",
            "movie_title: 0\n",
            "movie_info: 321\n",
            "critics_consensus: 8578\n",
            "content_rating: 0\n",
            "genres: 19\n",
            "directors: 194\n",
            "authors: 1542\n",
            "actors: 352\n",
            "original_release_date: 1166\n",
            "streaming_release_date: 384\n",
            "runtime: 314\n",
            "production_company: 499\n",
            "tomatometer_status: 44\n",
            "tomatometer_rating: 44\n",
            "tomatometer_count: 44\n",
            "audience_status: 448\n",
            "audience_rating: 296\n",
            "audience_count: 297\n",
            "tomatometer_top_critics_count: 0\n",
            "tomatometer_fresh_critics_count: 0\n",
            "tomatometer_rotten_critics_count: 0\n"
          ]
        }
      ]
    },
    {
      "cell_type": "code",
      "metadata": {
        "colab": {
          "base_uri": "https://localhost:8080/",
          "height": 320
        },
        "id": "5P_D-iqTviBm",
        "outputId": "0568f47c-b611-4d24-d011-378c721dc1d5"
      },
      "source": [
        "# descriptive statistics\n",
        "\n",
        "df.describe()"
      ],
      "execution_count": 145,
      "outputs": [
        {
          "output_type": "execute_result",
          "data": {
            "text/html": [
              "<div>\n",
              "<style scoped>\n",
              "    .dataframe tbody tr th:only-of-type {\n",
              "        vertical-align: middle;\n",
              "    }\n",
              "\n",
              "    .dataframe tbody tr th {\n",
              "        vertical-align: top;\n",
              "    }\n",
              "\n",
              "    .dataframe thead th {\n",
              "        text-align: right;\n",
              "    }\n",
              "</style>\n",
              "<table border=\"1\" class=\"dataframe\">\n",
              "  <thead>\n",
              "    <tr style=\"text-align: right;\">\n",
              "      <th></th>\n",
              "      <th>runtime</th>\n",
              "      <th>tomatometer_rating</th>\n",
              "      <th>tomatometer_count</th>\n",
              "      <th>audience_rating</th>\n",
              "      <th>audience_count</th>\n",
              "      <th>tomatometer_top_critics_count</th>\n",
              "      <th>tomatometer_fresh_critics_count</th>\n",
              "      <th>tomatometer_rotten_critics_count</th>\n",
              "    </tr>\n",
              "  </thead>\n",
              "  <tbody>\n",
              "    <tr>\n",
              "      <th>count</th>\n",
              "      <td>17398.000000</td>\n",
              "      <td>17668.000000</td>\n",
              "      <td>17668.000000</td>\n",
              "      <td>17416.000000</td>\n",
              "      <td>1.741500e+04</td>\n",
              "      <td>17712.000000</td>\n",
              "      <td>17712.000000</td>\n",
              "      <td>17712.000000</td>\n",
              "    </tr>\n",
              "    <tr>\n",
              "      <th>mean</th>\n",
              "      <td>102.214048</td>\n",
              "      <td>60.884763</td>\n",
              "      <td>57.139801</td>\n",
              "      <td>60.554260</td>\n",
              "      <td>1.439401e+05</td>\n",
              "      <td>14.586326</td>\n",
              "      <td>36.374831</td>\n",
              "      <td>20.703139</td>\n",
              "    </tr>\n",
              "    <tr>\n",
              "      <th>std</th>\n",
              "      <td>18.702511</td>\n",
              "      <td>28.443348</td>\n",
              "      <td>68.370047</td>\n",
              "      <td>20.543369</td>\n",
              "      <td>1.763577e+06</td>\n",
              "      <td>15.146349</td>\n",
              "      <td>52.601038</td>\n",
              "      <td>30.248435</td>\n",
              "    </tr>\n",
              "    <tr>\n",
              "      <th>min</th>\n",
              "      <td>5.000000</td>\n",
              "      <td>0.000000</td>\n",
              "      <td>5.000000</td>\n",
              "      <td>0.000000</td>\n",
              "      <td>5.000000e+00</td>\n",
              "      <td>0.000000</td>\n",
              "      <td>0.000000</td>\n",
              "      <td>0.000000</td>\n",
              "    </tr>\n",
              "    <tr>\n",
              "      <th>25%</th>\n",
              "      <td>90.000000</td>\n",
              "      <td>38.000000</td>\n",
              "      <td>12.000000</td>\n",
              "      <td>45.000000</td>\n",
              "      <td>7.075000e+02</td>\n",
              "      <td>3.000000</td>\n",
              "      <td>6.000000</td>\n",
              "      <td>3.000000</td>\n",
              "    </tr>\n",
              "    <tr>\n",
              "      <th>50%</th>\n",
              "      <td>99.000000</td>\n",
              "      <td>67.000000</td>\n",
              "      <td>28.000000</td>\n",
              "      <td>63.000000</td>\n",
              "      <td>4.277000e+03</td>\n",
              "      <td>8.000000</td>\n",
              "      <td>16.000000</td>\n",
              "      <td>8.000000</td>\n",
              "    </tr>\n",
              "    <tr>\n",
              "      <th>75%</th>\n",
              "      <td>111.000000</td>\n",
              "      <td>86.000000</td>\n",
              "      <td>75.000000</td>\n",
              "      <td>78.000000</td>\n",
              "      <td>2.498800e+04</td>\n",
              "      <td>23.000000</td>\n",
              "      <td>44.000000</td>\n",
              "      <td>24.000000</td>\n",
              "    </tr>\n",
              "    <tr>\n",
              "      <th>max</th>\n",
              "      <td>266.000000</td>\n",
              "      <td>100.000000</td>\n",
              "      <td>574.000000</td>\n",
              "      <td>100.000000</td>\n",
              "      <td>3.579764e+07</td>\n",
              "      <td>69.000000</td>\n",
              "      <td>497.000000</td>\n",
              "      <td>303.000000</td>\n",
              "    </tr>\n",
              "  </tbody>\n",
              "</table>\n",
              "</div>"
            ],
            "text/plain": [
              "            runtime  tomatometer_rating  tomatometer_count  audience_rating  \\\n",
              "count  17398.000000        17668.000000       17668.000000     17416.000000   \n",
              "mean     102.214048           60.884763          57.139801        60.554260   \n",
              "std       18.702511           28.443348          68.370047        20.543369   \n",
              "min        5.000000            0.000000           5.000000         0.000000   \n",
              "25%       90.000000           38.000000          12.000000        45.000000   \n",
              "50%       99.000000           67.000000          28.000000        63.000000   \n",
              "75%      111.000000           86.000000          75.000000        78.000000   \n",
              "max      266.000000          100.000000         574.000000       100.000000   \n",
              "\n",
              "       audience_count  tomatometer_top_critics_count  \\\n",
              "count    1.741500e+04              17712.000000        \n",
              "mean     1.439401e+05                 14.586326        \n",
              "std      1.763577e+06                 15.146349        \n",
              "min      5.000000e+00                  0.000000        \n",
              "25%      7.075000e+02                  3.000000        \n",
              "50%      4.277000e+03                  8.000000        \n",
              "75%      2.498800e+04                 23.000000        \n",
              "max      3.579764e+07                 69.000000        \n",
              "\n",
              "       tomatometer_fresh_critics_count  tomatometer_rotten_critics_count  \n",
              "count              17712.000000                     17712.000000          \n",
              "mean                  36.374831                        20.703139          \n",
              "std                   52.601038                        30.248435          \n",
              "min                    0.000000                         0.000000          \n",
              "25%                    6.000000                         3.000000          \n",
              "50%                   16.000000                         8.000000          \n",
              "75%                   44.000000                        24.000000          \n",
              "max                  497.000000                       303.000000          "
            ]
          },
          "metadata": {},
          "execution_count": 145
        }
      ]
    },
    {
      "cell_type": "markdown",
      "metadata": {
        "id": "ZNtc3bjGyGTw"
      },
      "source": [
        "# Features & Label Selection"
      ]
    },
    {
      "cell_type": "markdown",
      "metadata": {
        "id": "C05dg2h3yLls"
      },
      "source": [
        "### Features & Label\n",
        " - movie_title / genres / original_release_date / runtime / tomatometer_rating"
      ]
    },
    {
      "cell_type": "code",
      "metadata": {
        "colab": {
          "base_uri": "https://localhost:8080/",
          "height": 206
        },
        "id": "w0IU9gP0y_0w",
        "outputId": "b1b4bba8-3828-43f0-fccf-861ba9938e1c"
      },
      "source": [
        "# features\n",
        "f_l = df[['movie_title', 'genres', 'original_release_date', 'runtime', 'tomatometer_rating']]\n",
        "f_l.head()"
      ],
      "execution_count": 146,
      "outputs": [
        {
          "output_type": "execute_result",
          "data": {
            "text/html": [
              "<div>\n",
              "<style scoped>\n",
              "    .dataframe tbody tr th:only-of-type {\n",
              "        vertical-align: middle;\n",
              "    }\n",
              "\n",
              "    .dataframe tbody tr th {\n",
              "        vertical-align: top;\n",
              "    }\n",
              "\n",
              "    .dataframe thead th {\n",
              "        text-align: right;\n",
              "    }\n",
              "</style>\n",
              "<table border=\"1\" class=\"dataframe\">\n",
              "  <thead>\n",
              "    <tr style=\"text-align: right;\">\n",
              "      <th></th>\n",
              "      <th>movie_title</th>\n",
              "      <th>genres</th>\n",
              "      <th>original_release_date</th>\n",
              "      <th>runtime</th>\n",
              "      <th>tomatometer_rating</th>\n",
              "    </tr>\n",
              "  </thead>\n",
              "  <tbody>\n",
              "    <tr>\n",
              "      <th>0</th>\n",
              "      <td>Percy Jackson &amp; the O...</td>\n",
              "      <td>Action &amp; Adventure, C...</td>\n",
              "      <td>2010-02-12</td>\n",
              "      <td>119.0</td>\n",
              "      <td>49.0</td>\n",
              "    </tr>\n",
              "    <tr>\n",
              "      <th>1</th>\n",
              "      <td>Please Give</td>\n",
              "      <td>Comedy</td>\n",
              "      <td>2010-04-30</td>\n",
              "      <td>90.0</td>\n",
              "      <td>87.0</td>\n",
              "    </tr>\n",
              "    <tr>\n",
              "      <th>2</th>\n",
              "      <td>10</td>\n",
              "      <td>Comedy, Romance</td>\n",
              "      <td>1979-10-05</td>\n",
              "      <td>122.0</td>\n",
              "      <td>67.0</td>\n",
              "    </tr>\n",
              "    <tr>\n",
              "      <th>3</th>\n",
              "      <td>12 Angry Men (Twelve ...</td>\n",
              "      <td>Classics, Drama</td>\n",
              "      <td>1957-04-13</td>\n",
              "      <td>95.0</td>\n",
              "      <td>100.0</td>\n",
              "    </tr>\n",
              "    <tr>\n",
              "      <th>4</th>\n",
              "      <td>20,000 Leagues Under ...</td>\n",
              "      <td>Action &amp; Adventure, D...</td>\n",
              "      <td>1954-01-01</td>\n",
              "      <td>127.0</td>\n",
              "      <td>89.0</td>\n",
              "    </tr>\n",
              "  </tbody>\n",
              "</table>\n",
              "</div>"
            ],
            "text/plain": [
              "                movie_title                    genres original_release_date  \\\n",
              "0  Percy Jackson & the O...  Action & Adventure, C...            2010-02-12   \n",
              "1               Please Give                    Comedy            2010-04-30   \n",
              "2                        10           Comedy, Romance            1979-10-05   \n",
              "3  12 Angry Men (Twelve ...           Classics, Drama            1957-04-13   \n",
              "4  20,000 Leagues Under ...  Action & Adventure, D...            1954-01-01   \n",
              "\n",
              "   runtime  tomatometer_rating  \n",
              "0    119.0                49.0  \n",
              "1     90.0                87.0  \n",
              "2    122.0                67.0  \n",
              "3     95.0               100.0  \n",
              "4    127.0                89.0  "
            ]
          },
          "metadata": {},
          "execution_count": 146
        }
      ]
    },
    {
      "cell_type": "code",
      "metadata": {
        "colab": {
          "base_uri": "https://localhost:8080/"
        },
        "id": "wiphwP231fqQ",
        "outputId": "405df425-3b5c-4d1f-db81-1ee5da3bf008"
      },
      "source": [
        "f_l.shape"
      ],
      "execution_count": 147,
      "outputs": [
        {
          "output_type": "execute_result",
          "data": {
            "text/plain": [
              "(17712, 5)"
            ]
          },
          "metadata": {},
          "execution_count": 147
        }
      ]
    },
    {
      "cell_type": "markdown",
      "metadata": {
        "id": "d6G7sacHzt6l"
      },
      "source": [
        "### Genres"
      ]
    },
    {
      "cell_type": "code",
      "metadata": {
        "colab": {
          "base_uri": "https://localhost:8080/",
          "height": 316
        },
        "id": "ddXqTLbuw2z5",
        "outputId": "a030db48-73d0-430c-a492-53e0fb6ab19f"
      },
      "source": [
        "# separate the main genre from the genres column\n",
        "\n",
        "f_l['main_genre'] = features.genres.str.split(',').str[0]\n",
        "f_l.head()"
      ],
      "execution_count": 148,
      "outputs": [
        {
          "output_type": "stream",
          "name": "stderr",
          "text": [
            "/usr/local/lib/python3.7/dist-packages/ipykernel_launcher.py:3: SettingWithCopyWarning: \n",
            "A value is trying to be set on a copy of a slice from a DataFrame.\n",
            "Try using .loc[row_indexer,col_indexer] = value instead\n",
            "\n",
            "See the caveats in the documentation: https://pandas.pydata.org/pandas-docs/stable/user_guide/indexing.html#returning-a-view-versus-a-copy\n",
            "  This is separate from the ipykernel package so we can avoid doing imports until\n"
          ]
        },
        {
          "output_type": "execute_result",
          "data": {
            "text/html": [
              "<div>\n",
              "<style scoped>\n",
              "    .dataframe tbody tr th:only-of-type {\n",
              "        vertical-align: middle;\n",
              "    }\n",
              "\n",
              "    .dataframe tbody tr th {\n",
              "        vertical-align: top;\n",
              "    }\n",
              "\n",
              "    .dataframe thead th {\n",
              "        text-align: right;\n",
              "    }\n",
              "</style>\n",
              "<table border=\"1\" class=\"dataframe\">\n",
              "  <thead>\n",
              "    <tr style=\"text-align: right;\">\n",
              "      <th></th>\n",
              "      <th>movie_title</th>\n",
              "      <th>genres</th>\n",
              "      <th>original_release_date</th>\n",
              "      <th>runtime</th>\n",
              "      <th>tomatometer_rating</th>\n",
              "      <th>main_genre</th>\n",
              "    </tr>\n",
              "  </thead>\n",
              "  <tbody>\n",
              "    <tr>\n",
              "      <th>0</th>\n",
              "      <td>Percy Jackson &amp; the O...</td>\n",
              "      <td>Action &amp; Adventure, C...</td>\n",
              "      <td>2010-02-12</td>\n",
              "      <td>119.0</td>\n",
              "      <td>49.0</td>\n",
              "      <td>Action &amp; Adventure</td>\n",
              "    </tr>\n",
              "    <tr>\n",
              "      <th>1</th>\n",
              "      <td>Please Give</td>\n",
              "      <td>Comedy</td>\n",
              "      <td>2010-04-30</td>\n",
              "      <td>90.0</td>\n",
              "      <td>87.0</td>\n",
              "      <td>Comedy</td>\n",
              "    </tr>\n",
              "    <tr>\n",
              "      <th>2</th>\n",
              "      <td>10</td>\n",
              "      <td>Comedy, Romance</td>\n",
              "      <td>1979-10-05</td>\n",
              "      <td>122.0</td>\n",
              "      <td>67.0</td>\n",
              "      <td>Comedy</td>\n",
              "    </tr>\n",
              "    <tr>\n",
              "      <th>3</th>\n",
              "      <td>12 Angry Men (Twelve ...</td>\n",
              "      <td>Classics, Drama</td>\n",
              "      <td>1957-04-13</td>\n",
              "      <td>95.0</td>\n",
              "      <td>100.0</td>\n",
              "      <td>Classics</td>\n",
              "    </tr>\n",
              "    <tr>\n",
              "      <th>4</th>\n",
              "      <td>20,000 Leagues Under ...</td>\n",
              "      <td>Action &amp; Adventure, D...</td>\n",
              "      <td>1954-01-01</td>\n",
              "      <td>127.0</td>\n",
              "      <td>89.0</td>\n",
              "      <td>Action &amp; Adventure</td>\n",
              "    </tr>\n",
              "  </tbody>\n",
              "</table>\n",
              "</div>"
            ],
            "text/plain": [
              "                movie_title                    genres original_release_date  \\\n",
              "0  Percy Jackson & the O...  Action & Adventure, C...            2010-02-12   \n",
              "1               Please Give                    Comedy            2010-04-30   \n",
              "2                        10           Comedy, Romance            1979-10-05   \n",
              "3  12 Angry Men (Twelve ...           Classics, Drama            1957-04-13   \n",
              "4  20,000 Leagues Under ...  Action & Adventure, D...            1954-01-01   \n",
              "\n",
              "   runtime  tomatometer_rating          main_genre  \n",
              "0    119.0                49.0  Action & Adventure  \n",
              "1     90.0                87.0              Comedy  \n",
              "2    122.0                67.0              Comedy  \n",
              "3     95.0               100.0            Classics  \n",
              "4    127.0                89.0  Action & Adventure  "
            ]
          },
          "metadata": {},
          "execution_count": 148
        }
      ]
    },
    {
      "cell_type": "code",
      "metadata": {
        "colab": {
          "base_uri": "https://localhost:8080/"
        },
        "id": "4Eyl9DC9wOkg",
        "outputId": "ebeff34c-0725-42a7-f119-1b1e875d220f"
      },
      "source": [
        "# count of movies per main_genre\n",
        "\n",
        "f_l.main_genre.value_counts()"
      ],
      "execution_count": 149,
      "outputs": [
        {
          "output_type": "execute_result",
          "data": {
            "text/plain": [
              "Drama                        3789\n",
              "Comedy                       3725\n",
              "Action & Adventure           3551\n",
              "Art House & International    2021\n",
              "Documentary                  1725\n",
              "Classics                     1110\n",
              "Horror                        943\n",
              "Animation                     379\n",
              "Mystery & Suspense            289\n",
              "Kids & Family                  46\n",
              "Science Fiction & Fantasy      40\n",
              "Musical & Performing Arts      26\n",
              "Cult Movies                    22\n",
              "Romance                        14\n",
              "Western                         9\n",
              "Special Interest                3\n",
              "Television                      1\n",
              "Name: main_genre, dtype: int64"
            ]
          },
          "metadata": {},
          "execution_count": 149
        }
      ]
    },
    {
      "cell_type": "code",
      "metadata": {
        "colab": {
          "base_uri": "https://localhost:8080/",
          "height": 645
        },
        "id": "5Y3eNsh01MQ-",
        "outputId": "e0b9fb7f-2765-4977-a3d5-ad5fdadc93d9"
      },
      "source": [
        "# check for rows with main_genre NaN\n",
        "f_l[f_l['main_genre'].isna()]"
      ],
      "execution_count": 150,
      "outputs": [
        {
          "output_type": "execute_result",
          "data": {
            "text/html": [
              "<div>\n",
              "<style scoped>\n",
              "    .dataframe tbody tr th:only-of-type {\n",
              "        vertical-align: middle;\n",
              "    }\n",
              "\n",
              "    .dataframe tbody tr th {\n",
              "        vertical-align: top;\n",
              "    }\n",
              "\n",
              "    .dataframe thead th {\n",
              "        text-align: right;\n",
              "    }\n",
              "</style>\n",
              "<table border=\"1\" class=\"dataframe\">\n",
              "  <thead>\n",
              "    <tr style=\"text-align: right;\">\n",
              "      <th></th>\n",
              "      <th>movie_title</th>\n",
              "      <th>genres</th>\n",
              "      <th>original_release_date</th>\n",
              "      <th>runtime</th>\n",
              "      <th>tomatometer_rating</th>\n",
              "      <th>main_genre</th>\n",
              "    </tr>\n",
              "  </thead>\n",
              "  <tbody>\n",
              "    <tr>\n",
              "      <th>1987</th>\n",
              "      <td>400 Days</td>\n",
              "      <td>NaN</td>\n",
              "      <td>2016-01-15</td>\n",
              "      <td>91.0</td>\n",
              "      <td>22.0</td>\n",
              "      <td>NaN</td>\n",
              "    </tr>\n",
              "    <tr>\n",
              "      <th>2552</th>\n",
              "      <td>All the Way</td>\n",
              "      <td>NaN</td>\n",
              "      <td>2016-05-21</td>\n",
              "      <td>132.0</td>\n",
              "      <td>87.0</td>\n",
              "      <td>NaN</td>\n",
              "    </tr>\n",
              "    <tr>\n",
              "      <th>3233</th>\n",
              "      <td>Batman: Hush</td>\n",
              "      <td>NaN</td>\n",
              "      <td>NaN</td>\n",
              "      <td>82.0</td>\n",
              "      <td>88.0</td>\n",
              "      <td>NaN</td>\n",
              "    </tr>\n",
              "    <tr>\n",
              "      <th>3236</th>\n",
              "      <td>Batman: Return Of The...</td>\n",
              "      <td>NaN</td>\n",
              "      <td>NaN</td>\n",
              "      <td>78.0</td>\n",
              "      <td>94.0</td>\n",
              "      <td>NaN</td>\n",
              "    </tr>\n",
              "    <tr>\n",
              "      <th>3246</th>\n",
              "      <td>Batman vs. Two-Face</td>\n",
              "      <td>NaN</td>\n",
              "      <td>NaN</td>\n",
              "      <td>72.0</td>\n",
              "      <td>100.0</td>\n",
              "      <td>NaN</td>\n",
              "    </tr>\n",
              "    <tr>\n",
              "      <th>5004</th>\n",
              "      <td>Cross of Iron</td>\n",
              "      <td>NaN</td>\n",
              "      <td>1977-01-01</td>\n",
              "      <td>119.0</td>\n",
              "      <td>75.0</td>\n",
              "      <td>NaN</td>\n",
              "    </tr>\n",
              "    <tr>\n",
              "      <th>5409</th>\n",
              "      <td>Descendants 2</td>\n",
              "      <td>NaN</td>\n",
              "      <td>NaN</td>\n",
              "      <td>111.0</td>\n",
              "      <td>71.0</td>\n",
              "      <td>NaN</td>\n",
              "    </tr>\n",
              "    <tr>\n",
              "      <th>8604</th>\n",
              "      <td>Jane Wants a Boyfriend</td>\n",
              "      <td>NaN</td>\n",
              "      <td>2016-03-25</td>\n",
              "      <td>101.0</td>\n",
              "      <td>38.0</td>\n",
              "      <td>NaN</td>\n",
              "    </tr>\n",
              "    <tr>\n",
              "      <th>8860</th>\n",
              "      <td>Justice League vs the...</td>\n",
              "      <td>NaN</td>\n",
              "      <td>NaN</td>\n",
              "      <td>77.0</td>\n",
              "      <td>100.0</td>\n",
              "      <td>NaN</td>\n",
              "    </tr>\n",
              "    <tr>\n",
              "      <th>9746</th>\n",
              "      <td>Lost in the Sun</td>\n",
              "      <td>NaN</td>\n",
              "      <td>2015-11-06</td>\n",
              "      <td>95.0</td>\n",
              "      <td>20.0</td>\n",
              "      <td>NaN</td>\n",
              "    </tr>\n",
              "    <tr>\n",
              "      <th>10074</th>\n",
              "      <td>Manson Family Vacation</td>\n",
              "      <td>NaN</td>\n",
              "      <td>NaN</td>\n",
              "      <td>84.0</td>\n",
              "      <td>100.0</td>\n",
              "      <td>NaN</td>\n",
              "    </tr>\n",
              "    <tr>\n",
              "      <th>11929</th>\n",
              "      <td>Pokémon The Movie: I ...</td>\n",
              "      <td>NaN</td>\n",
              "      <td>2017-11-05</td>\n",
              "      <td>98.0</td>\n",
              "      <td>33.0</td>\n",
              "      <td>NaN</td>\n",
              "    </tr>\n",
              "    <tr>\n",
              "      <th>14029</th>\n",
              "      <td>Suicide Squad: Hell t...</td>\n",
              "      <td>NaN</td>\n",
              "      <td>NaN</td>\n",
              "      <td>91.0</td>\n",
              "      <td>88.0</td>\n",
              "      <td>NaN</td>\n",
              "    </tr>\n",
              "    <tr>\n",
              "      <th>14772</th>\n",
              "      <td>The Crucifixion</td>\n",
              "      <td>NaN</td>\n",
              "      <td>NaN</td>\n",
              "      <td>90.0</td>\n",
              "      <td>6.0</td>\n",
              "      <td>NaN</td>\n",
              "    </tr>\n",
              "    <tr>\n",
              "      <th>14813</th>\n",
              "      <td>The Debt Collector</td>\n",
              "      <td>NaN</td>\n",
              "      <td>NaN</td>\n",
              "      <td>96.0</td>\n",
              "      <td>83.0</td>\n",
              "      <td>NaN</td>\n",
              "    </tr>\n",
              "    <tr>\n",
              "      <th>14972</th>\n",
              "      <td>The Forest of Love</td>\n",
              "      <td>NaN</td>\n",
              "      <td>2019-10-11</td>\n",
              "      <td>151.0</td>\n",
              "      <td>100.0</td>\n",
              "      <td>NaN</td>\n",
              "    </tr>\n",
              "    <tr>\n",
              "      <th>15266</th>\n",
              "      <td>The Jurassic Games</td>\n",
              "      <td>NaN</td>\n",
              "      <td>NaN</td>\n",
              "      <td>86.0</td>\n",
              "      <td>71.0</td>\n",
              "      <td>NaN</td>\n",
              "    </tr>\n",
              "    <tr>\n",
              "      <th>15565</th>\n",
              "      <td>The Other Side of Eve...</td>\n",
              "      <td>NaN</td>\n",
              "      <td>NaN</td>\n",
              "      <td>100.0</td>\n",
              "      <td>91.0</td>\n",
              "      <td>NaN</td>\n",
              "    </tr>\n",
              "    <tr>\n",
              "      <th>17497</th>\n",
              "      <td>Wonder Woman: Bloodlines</td>\n",
              "      <td>NaN</td>\n",
              "      <td>NaN</td>\n",
              "      <td>83.0</td>\n",
              "      <td>88.0</td>\n",
              "      <td>NaN</td>\n",
              "    </tr>\n",
              "  </tbody>\n",
              "</table>\n",
              "</div>"
            ],
            "text/plain": [
              "                    movie_title genres original_release_date  runtime  \\\n",
              "1987                   400 Days    NaN            2016-01-15     91.0   \n",
              "2552                All the Way    NaN            2016-05-21    132.0   \n",
              "3233               Batman: Hush    NaN                   NaN     82.0   \n",
              "3236   Batman: Return Of The...    NaN                   NaN     78.0   \n",
              "3246        Batman vs. Two-Face    NaN                   NaN     72.0   \n",
              "5004              Cross of Iron    NaN            1977-01-01    119.0   \n",
              "5409              Descendants 2    NaN                   NaN    111.0   \n",
              "8604     Jane Wants a Boyfriend    NaN            2016-03-25    101.0   \n",
              "8860   Justice League vs the...    NaN                   NaN     77.0   \n",
              "9746            Lost in the Sun    NaN            2015-11-06     95.0   \n",
              "10074    Manson Family Vacation    NaN                   NaN     84.0   \n",
              "11929  Pokémon The Movie: I ...    NaN            2017-11-05     98.0   \n",
              "14029  Suicide Squad: Hell t...    NaN                   NaN     91.0   \n",
              "14772           The Crucifixion    NaN                   NaN     90.0   \n",
              "14813        The Debt Collector    NaN                   NaN     96.0   \n",
              "14972        The Forest of Love    NaN            2019-10-11    151.0   \n",
              "15266        The Jurassic Games    NaN                   NaN     86.0   \n",
              "15565  The Other Side of Eve...    NaN                   NaN    100.0   \n",
              "17497  Wonder Woman: Bloodlines    NaN                   NaN     83.0   \n",
              "\n",
              "       tomatometer_rating main_genre  \n",
              "1987                 22.0        NaN  \n",
              "2552                 87.0        NaN  \n",
              "3233                 88.0        NaN  \n",
              "3236                 94.0        NaN  \n",
              "3246                100.0        NaN  \n",
              "5004                 75.0        NaN  \n",
              "5409                 71.0        NaN  \n",
              "8604                 38.0        NaN  \n",
              "8860                100.0        NaN  \n",
              "9746                 20.0        NaN  \n",
              "10074               100.0        NaN  \n",
              "11929                33.0        NaN  \n",
              "14029                88.0        NaN  \n",
              "14772                 6.0        NaN  \n",
              "14813                83.0        NaN  \n",
              "14972               100.0        NaN  \n",
              "15266                71.0        NaN  \n",
              "15565                91.0        NaN  \n",
              "17497                88.0        NaN  "
            ]
          },
          "metadata": {},
          "execution_count": 150
        }
      ]
    },
    {
      "cell_type": "code",
      "metadata": {
        "colab": {
          "base_uri": "https://localhost:8080/"
        },
        "id": "GraVRF3U2bEP",
        "outputId": "846a3135-6122-495a-c0aa-c1a35a1e9b88"
      },
      "source": [
        "# drop rows \n",
        "\n",
        "f_l = f_l.dropna(subset=['main_genre'])\n",
        "f_l.shape"
      ],
      "execution_count": 151,
      "outputs": [
        {
          "output_type": "execute_result",
          "data": {
            "text/plain": [
              "(17693, 6)"
            ]
          },
          "metadata": {},
          "execution_count": 151
        }
      ]
    },
    {
      "cell_type": "markdown",
      "metadata": {
        "id": "Lik5xaz53D32"
      },
      "source": [
        "#### Year of Relaseas Date"
      ]
    }
  ]
}